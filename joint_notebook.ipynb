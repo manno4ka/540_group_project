{
    "cells": [
        {
            "cell_type": "code",
            "execution_count": 31,
            "source": [
                "import numpy as np\r\n",
                "import pandas as pd\r\n",
                "from pprint import pprint\r\n",
                "import matplotlib.pyplot as plt\r\n",
                "import seaborn as sns\r\n",
                "import plotly.graph_objs as go\r\n",
                "import plotly.express as px\r\n",
                "\r\n",
                "\r\n",
                "pd.set_option(\"display.max_columns\",None)"
            ],
            "outputs": [],
            "metadata": {}
        },
        {
            "cell_type": "markdown",
            "source": [
                "# Loading the data"
            ],
            "metadata": {}
        },
        {
            "cell_type": "code",
            "execution_count": 3,
            "source": [
                "df = pd.read_csv(\"WA_Fn-UseC_-HR-Employee-Attrition.csv\")"
            ],
            "outputs": [],
            "metadata": {}
        },
        {
            "cell_type": "code",
            "execution_count": 19,
            "source": [
                "df.head()"
            ],
            "outputs": [
                {
                    "output_type": "execute_result",
                    "data": {
                        "text/plain": [
                            "   Age Attrition     BusinessTravel  DailyRate              Department  \\\n",
                            "0   41       Yes      Travel_Rarely       1102                   Sales   \n",
                            "1   49        No  Travel_Frequently        279  Research & Development   \n",
                            "2   37       Yes      Travel_Rarely       1373  Research & Development   \n",
                            "3   33        No  Travel_Frequently       1392  Research & Development   \n",
                            "4   27        No      Travel_Rarely        591  Research & Development   \n",
                            "\n",
                            "   DistanceFromHome  Education EducationField  EmployeeCount  EmployeeNumber  \\\n",
                            "0                 1          2  Life Sciences              1               1   \n",
                            "1                 8          1  Life Sciences              1               2   \n",
                            "2                 2          2          Other              1               4   \n",
                            "3                 3          4  Life Sciences              1               5   \n",
                            "4                 2          1        Medical              1               7   \n",
                            "\n",
                            "   EnvironmentSatisfaction  Gender  HourlyRate  JobInvolvement  JobLevel  \\\n",
                            "0                        2  Female          94               3         2   \n",
                            "1                        3    Male          61               2         2   \n",
                            "2                        4    Male          92               2         1   \n",
                            "3                        4  Female          56               3         1   \n",
                            "4                        1    Male          40               3         1   \n",
                            "\n",
                            "                 JobRole  JobSatisfaction MaritalStatus  MonthlyIncome  \\\n",
                            "0        Sales Executive                4        Single           5993   \n",
                            "1     Research Scientist                2       Married           5130   \n",
                            "2  Laboratory Technician                3        Single           2090   \n",
                            "3     Research Scientist                3       Married           2909   \n",
                            "4  Laboratory Technician                2       Married           3468   \n",
                            "\n",
                            "   MonthlyRate  NumCompaniesWorked Over18 OverTime  PercentSalaryHike  \\\n",
                            "0        19479                   8      Y      Yes                 11   \n",
                            "1        24907                   1      Y       No                 23   \n",
                            "2         2396                   6      Y      Yes                 15   \n",
                            "3        23159                   1      Y      Yes                 11   \n",
                            "4        16632                   9      Y       No                 12   \n",
                            "\n",
                            "   PerformanceRating  RelationshipSatisfaction  StandardHours  \\\n",
                            "0                  3                         1             80   \n",
                            "1                  4                         4             80   \n",
                            "2                  3                         2             80   \n",
                            "3                  3                         3             80   \n",
                            "4                  3                         4             80   \n",
                            "\n",
                            "   StockOptionLevel  TotalWorkingYears  TrainingTimesLastYear  \\\n",
                            "0                 0                  8                      0   \n",
                            "1                 1                 10                      3   \n",
                            "2                 0                  7                      3   \n",
                            "3                 0                  8                      3   \n",
                            "4                 1                  6                      3   \n",
                            "\n",
                            "   WorkLifeBalance  YearsAtCompany  YearsInCurrentRole  \\\n",
                            "0                1               6                   4   \n",
                            "1                3              10                   7   \n",
                            "2                3               0                   0   \n",
                            "3                3               8                   7   \n",
                            "4                3               2                   2   \n",
                            "\n",
                            "   YearsSinceLastPromotion  YearsWithCurrManager  \n",
                            "0                        0                     5  \n",
                            "1                        1                     7  \n",
                            "2                        0                     0  \n",
                            "3                        3                     0  \n",
                            "4                        2                     2  "
                        ],
                        "text/html": [
                            "<div>\n",
                            "<style scoped>\n",
                            "    .dataframe tbody tr th:only-of-type {\n",
                            "        vertical-align: middle;\n",
                            "    }\n",
                            "\n",
                            "    .dataframe tbody tr th {\n",
                            "        vertical-align: top;\n",
                            "    }\n",
                            "\n",
                            "    .dataframe thead th {\n",
                            "        text-align: right;\n",
                            "    }\n",
                            "</style>\n",
                            "<table border=\"1\" class=\"dataframe\">\n",
                            "  <thead>\n",
                            "    <tr style=\"text-align: right;\">\n",
                            "      <th></th>\n",
                            "      <th>Age</th>\n",
                            "      <th>Attrition</th>\n",
                            "      <th>BusinessTravel</th>\n",
                            "      <th>DailyRate</th>\n",
                            "      <th>Department</th>\n",
                            "      <th>DistanceFromHome</th>\n",
                            "      <th>Education</th>\n",
                            "      <th>EducationField</th>\n",
                            "      <th>EmployeeCount</th>\n",
                            "      <th>EmployeeNumber</th>\n",
                            "      <th>EnvironmentSatisfaction</th>\n",
                            "      <th>Gender</th>\n",
                            "      <th>HourlyRate</th>\n",
                            "      <th>JobInvolvement</th>\n",
                            "      <th>JobLevel</th>\n",
                            "      <th>JobRole</th>\n",
                            "      <th>JobSatisfaction</th>\n",
                            "      <th>MaritalStatus</th>\n",
                            "      <th>MonthlyIncome</th>\n",
                            "      <th>MonthlyRate</th>\n",
                            "      <th>NumCompaniesWorked</th>\n",
                            "      <th>Over18</th>\n",
                            "      <th>OverTime</th>\n",
                            "      <th>PercentSalaryHike</th>\n",
                            "      <th>PerformanceRating</th>\n",
                            "      <th>RelationshipSatisfaction</th>\n",
                            "      <th>StandardHours</th>\n",
                            "      <th>StockOptionLevel</th>\n",
                            "      <th>TotalWorkingYears</th>\n",
                            "      <th>TrainingTimesLastYear</th>\n",
                            "      <th>WorkLifeBalance</th>\n",
                            "      <th>YearsAtCompany</th>\n",
                            "      <th>YearsInCurrentRole</th>\n",
                            "      <th>YearsSinceLastPromotion</th>\n",
                            "      <th>YearsWithCurrManager</th>\n",
                            "    </tr>\n",
                            "  </thead>\n",
                            "  <tbody>\n",
                            "    <tr>\n",
                            "      <th>0</th>\n",
                            "      <td>41</td>\n",
                            "      <td>Yes</td>\n",
                            "      <td>Travel_Rarely</td>\n",
                            "      <td>1102</td>\n",
                            "      <td>Sales</td>\n",
                            "      <td>1</td>\n",
                            "      <td>2</td>\n",
                            "      <td>Life Sciences</td>\n",
                            "      <td>1</td>\n",
                            "      <td>1</td>\n",
                            "      <td>2</td>\n",
                            "      <td>Female</td>\n",
                            "      <td>94</td>\n",
                            "      <td>3</td>\n",
                            "      <td>2</td>\n",
                            "      <td>Sales Executive</td>\n",
                            "      <td>4</td>\n",
                            "      <td>Single</td>\n",
                            "      <td>5993</td>\n",
                            "      <td>19479</td>\n",
                            "      <td>8</td>\n",
                            "      <td>Y</td>\n",
                            "      <td>Yes</td>\n",
                            "      <td>11</td>\n",
                            "      <td>3</td>\n",
                            "      <td>1</td>\n",
                            "      <td>80</td>\n",
                            "      <td>0</td>\n",
                            "      <td>8</td>\n",
                            "      <td>0</td>\n",
                            "      <td>1</td>\n",
                            "      <td>6</td>\n",
                            "      <td>4</td>\n",
                            "      <td>0</td>\n",
                            "      <td>5</td>\n",
                            "    </tr>\n",
                            "    <tr>\n",
                            "      <th>1</th>\n",
                            "      <td>49</td>\n",
                            "      <td>No</td>\n",
                            "      <td>Travel_Frequently</td>\n",
                            "      <td>279</td>\n",
                            "      <td>Research &amp; Development</td>\n",
                            "      <td>8</td>\n",
                            "      <td>1</td>\n",
                            "      <td>Life Sciences</td>\n",
                            "      <td>1</td>\n",
                            "      <td>2</td>\n",
                            "      <td>3</td>\n",
                            "      <td>Male</td>\n",
                            "      <td>61</td>\n",
                            "      <td>2</td>\n",
                            "      <td>2</td>\n",
                            "      <td>Research Scientist</td>\n",
                            "      <td>2</td>\n",
                            "      <td>Married</td>\n",
                            "      <td>5130</td>\n",
                            "      <td>24907</td>\n",
                            "      <td>1</td>\n",
                            "      <td>Y</td>\n",
                            "      <td>No</td>\n",
                            "      <td>23</td>\n",
                            "      <td>4</td>\n",
                            "      <td>4</td>\n",
                            "      <td>80</td>\n",
                            "      <td>1</td>\n",
                            "      <td>10</td>\n",
                            "      <td>3</td>\n",
                            "      <td>3</td>\n",
                            "      <td>10</td>\n",
                            "      <td>7</td>\n",
                            "      <td>1</td>\n",
                            "      <td>7</td>\n",
                            "    </tr>\n",
                            "    <tr>\n",
                            "      <th>2</th>\n",
                            "      <td>37</td>\n",
                            "      <td>Yes</td>\n",
                            "      <td>Travel_Rarely</td>\n",
                            "      <td>1373</td>\n",
                            "      <td>Research &amp; Development</td>\n",
                            "      <td>2</td>\n",
                            "      <td>2</td>\n",
                            "      <td>Other</td>\n",
                            "      <td>1</td>\n",
                            "      <td>4</td>\n",
                            "      <td>4</td>\n",
                            "      <td>Male</td>\n",
                            "      <td>92</td>\n",
                            "      <td>2</td>\n",
                            "      <td>1</td>\n",
                            "      <td>Laboratory Technician</td>\n",
                            "      <td>3</td>\n",
                            "      <td>Single</td>\n",
                            "      <td>2090</td>\n",
                            "      <td>2396</td>\n",
                            "      <td>6</td>\n",
                            "      <td>Y</td>\n",
                            "      <td>Yes</td>\n",
                            "      <td>15</td>\n",
                            "      <td>3</td>\n",
                            "      <td>2</td>\n",
                            "      <td>80</td>\n",
                            "      <td>0</td>\n",
                            "      <td>7</td>\n",
                            "      <td>3</td>\n",
                            "      <td>3</td>\n",
                            "      <td>0</td>\n",
                            "      <td>0</td>\n",
                            "      <td>0</td>\n",
                            "      <td>0</td>\n",
                            "    </tr>\n",
                            "    <tr>\n",
                            "      <th>3</th>\n",
                            "      <td>33</td>\n",
                            "      <td>No</td>\n",
                            "      <td>Travel_Frequently</td>\n",
                            "      <td>1392</td>\n",
                            "      <td>Research &amp; Development</td>\n",
                            "      <td>3</td>\n",
                            "      <td>4</td>\n",
                            "      <td>Life Sciences</td>\n",
                            "      <td>1</td>\n",
                            "      <td>5</td>\n",
                            "      <td>4</td>\n",
                            "      <td>Female</td>\n",
                            "      <td>56</td>\n",
                            "      <td>3</td>\n",
                            "      <td>1</td>\n",
                            "      <td>Research Scientist</td>\n",
                            "      <td>3</td>\n",
                            "      <td>Married</td>\n",
                            "      <td>2909</td>\n",
                            "      <td>23159</td>\n",
                            "      <td>1</td>\n",
                            "      <td>Y</td>\n",
                            "      <td>Yes</td>\n",
                            "      <td>11</td>\n",
                            "      <td>3</td>\n",
                            "      <td>3</td>\n",
                            "      <td>80</td>\n",
                            "      <td>0</td>\n",
                            "      <td>8</td>\n",
                            "      <td>3</td>\n",
                            "      <td>3</td>\n",
                            "      <td>8</td>\n",
                            "      <td>7</td>\n",
                            "      <td>3</td>\n",
                            "      <td>0</td>\n",
                            "    </tr>\n",
                            "    <tr>\n",
                            "      <th>4</th>\n",
                            "      <td>27</td>\n",
                            "      <td>No</td>\n",
                            "      <td>Travel_Rarely</td>\n",
                            "      <td>591</td>\n",
                            "      <td>Research &amp; Development</td>\n",
                            "      <td>2</td>\n",
                            "      <td>1</td>\n",
                            "      <td>Medical</td>\n",
                            "      <td>1</td>\n",
                            "      <td>7</td>\n",
                            "      <td>1</td>\n",
                            "      <td>Male</td>\n",
                            "      <td>40</td>\n",
                            "      <td>3</td>\n",
                            "      <td>1</td>\n",
                            "      <td>Laboratory Technician</td>\n",
                            "      <td>2</td>\n",
                            "      <td>Married</td>\n",
                            "      <td>3468</td>\n",
                            "      <td>16632</td>\n",
                            "      <td>9</td>\n",
                            "      <td>Y</td>\n",
                            "      <td>No</td>\n",
                            "      <td>12</td>\n",
                            "      <td>3</td>\n",
                            "      <td>4</td>\n",
                            "      <td>80</td>\n",
                            "      <td>1</td>\n",
                            "      <td>6</td>\n",
                            "      <td>3</td>\n",
                            "      <td>3</td>\n",
                            "      <td>2</td>\n",
                            "      <td>2</td>\n",
                            "      <td>2</td>\n",
                            "      <td>2</td>\n",
                            "    </tr>\n",
                            "  </tbody>\n",
                            "</table>\n",
                            "</div>"
                        ]
                    },
                    "metadata": {},
                    "execution_count": 19
                }
            ],
            "metadata": {}
        },
        {
            "cell_type": "markdown",
            "source": [
                "# Exploratory Data Analysis"
            ],
            "metadata": {}
        },
        {
            "cell_type": "markdown",
            "source": [
                "Let's see the basic statistics of our data"
            ],
            "metadata": {}
        },
        {
            "cell_type": "code",
            "execution_count": 5,
            "source": [
                "df.describe().T"
            ],
            "outputs": [
                {
                    "output_type": "execute_result",
                    "data": {
                        "text/plain": [
                            "                           count          mean          std     min      25%  \\\n",
                            "Age                       1470.0     36.923810     9.135373    18.0    30.00   \n",
                            "DailyRate                 1470.0    802.485714   403.509100   102.0   465.00   \n",
                            "DistanceFromHome          1470.0      9.192517     8.106864     1.0     2.00   \n",
                            "Education                 1470.0      2.912925     1.024165     1.0     2.00   \n",
                            "EmployeeCount             1470.0      1.000000     0.000000     1.0     1.00   \n",
                            "EmployeeNumber            1470.0   1024.865306   602.024335     1.0   491.25   \n",
                            "EnvironmentSatisfaction   1470.0      2.721769     1.093082     1.0     2.00   \n",
                            "HourlyRate                1470.0     65.891156    20.329428    30.0    48.00   \n",
                            "JobInvolvement            1470.0      2.729932     0.711561     1.0     2.00   \n",
                            "JobLevel                  1470.0      2.063946     1.106940     1.0     1.00   \n",
                            "JobSatisfaction           1470.0      2.728571     1.102846     1.0     2.00   \n",
                            "MonthlyIncome             1470.0   6502.931293  4707.956783  1009.0  2911.00   \n",
                            "MonthlyRate               1470.0  14313.103401  7117.786044  2094.0  8047.00   \n",
                            "NumCompaniesWorked        1470.0      2.693197     2.498009     0.0     1.00   \n",
                            "PercentSalaryHike         1470.0     15.209524     3.659938    11.0    12.00   \n",
                            "PerformanceRating         1470.0      3.153741     0.360824     3.0     3.00   \n",
                            "RelationshipSatisfaction  1470.0      2.712245     1.081209     1.0     2.00   \n",
                            "StandardHours             1470.0     80.000000     0.000000    80.0    80.00   \n",
                            "StockOptionLevel          1470.0      0.793878     0.852077     0.0     0.00   \n",
                            "TotalWorkingYears         1470.0     11.279592     7.780782     0.0     6.00   \n",
                            "TrainingTimesLastYear     1470.0      2.799320     1.289271     0.0     2.00   \n",
                            "WorkLifeBalance           1470.0      2.761224     0.706476     1.0     2.00   \n",
                            "YearsAtCompany            1470.0      7.008163     6.126525     0.0     3.00   \n",
                            "YearsInCurrentRole        1470.0      4.229252     3.623137     0.0     2.00   \n",
                            "YearsSinceLastPromotion   1470.0      2.187755     3.222430     0.0     0.00   \n",
                            "YearsWithCurrManager      1470.0      4.123129     3.568136     0.0     2.00   \n",
                            "\n",
                            "                              50%       75%      max  \n",
                            "Age                          36.0     43.00     60.0  \n",
                            "DailyRate                   802.0   1157.00   1499.0  \n",
                            "DistanceFromHome              7.0     14.00     29.0  \n",
                            "Education                     3.0      4.00      5.0  \n",
                            "EmployeeCount                 1.0      1.00      1.0  \n",
                            "EmployeeNumber             1020.5   1555.75   2068.0  \n",
                            "EnvironmentSatisfaction       3.0      4.00      4.0  \n",
                            "HourlyRate                   66.0     83.75    100.0  \n",
                            "JobInvolvement                3.0      3.00      4.0  \n",
                            "JobLevel                      2.0      3.00      5.0  \n",
                            "JobSatisfaction               3.0      4.00      4.0  \n",
                            "MonthlyIncome              4919.0   8379.00  19999.0  \n",
                            "MonthlyRate               14235.5  20461.50  26999.0  \n",
                            "NumCompaniesWorked            2.0      4.00      9.0  \n",
                            "PercentSalaryHike            14.0     18.00     25.0  \n",
                            "PerformanceRating             3.0      3.00      4.0  \n",
                            "RelationshipSatisfaction      3.0      4.00      4.0  \n",
                            "StandardHours                80.0     80.00     80.0  \n",
                            "StockOptionLevel              1.0      1.00      3.0  \n",
                            "TotalWorkingYears            10.0     15.00     40.0  \n",
                            "TrainingTimesLastYear         3.0      3.00      6.0  \n",
                            "WorkLifeBalance               3.0      3.00      4.0  \n",
                            "YearsAtCompany                5.0      9.00     40.0  \n",
                            "YearsInCurrentRole            3.0      7.00     18.0  \n",
                            "YearsSinceLastPromotion       1.0      3.00     15.0  \n",
                            "YearsWithCurrManager          3.0      7.00     17.0  "
                        ],
                        "text/html": [
                            "<div>\n",
                            "<style scoped>\n",
                            "    .dataframe tbody tr th:only-of-type {\n",
                            "        vertical-align: middle;\n",
                            "    }\n",
                            "\n",
                            "    .dataframe tbody tr th {\n",
                            "        vertical-align: top;\n",
                            "    }\n",
                            "\n",
                            "    .dataframe thead th {\n",
                            "        text-align: right;\n",
                            "    }\n",
                            "</style>\n",
                            "<table border=\"1\" class=\"dataframe\">\n",
                            "  <thead>\n",
                            "    <tr style=\"text-align: right;\">\n",
                            "      <th></th>\n",
                            "      <th>count</th>\n",
                            "      <th>mean</th>\n",
                            "      <th>std</th>\n",
                            "      <th>min</th>\n",
                            "      <th>25%</th>\n",
                            "      <th>50%</th>\n",
                            "      <th>75%</th>\n",
                            "      <th>max</th>\n",
                            "    </tr>\n",
                            "  </thead>\n",
                            "  <tbody>\n",
                            "    <tr>\n",
                            "      <th>Age</th>\n",
                            "      <td>1470.0</td>\n",
                            "      <td>36.923810</td>\n",
                            "      <td>9.135373</td>\n",
                            "      <td>18.0</td>\n",
                            "      <td>30.00</td>\n",
                            "      <td>36.0</td>\n",
                            "      <td>43.00</td>\n",
                            "      <td>60.0</td>\n",
                            "    </tr>\n",
                            "    <tr>\n",
                            "      <th>DailyRate</th>\n",
                            "      <td>1470.0</td>\n",
                            "      <td>802.485714</td>\n",
                            "      <td>403.509100</td>\n",
                            "      <td>102.0</td>\n",
                            "      <td>465.00</td>\n",
                            "      <td>802.0</td>\n",
                            "      <td>1157.00</td>\n",
                            "      <td>1499.0</td>\n",
                            "    </tr>\n",
                            "    <tr>\n",
                            "      <th>DistanceFromHome</th>\n",
                            "      <td>1470.0</td>\n",
                            "      <td>9.192517</td>\n",
                            "      <td>8.106864</td>\n",
                            "      <td>1.0</td>\n",
                            "      <td>2.00</td>\n",
                            "      <td>7.0</td>\n",
                            "      <td>14.00</td>\n",
                            "      <td>29.0</td>\n",
                            "    </tr>\n",
                            "    <tr>\n",
                            "      <th>Education</th>\n",
                            "      <td>1470.0</td>\n",
                            "      <td>2.912925</td>\n",
                            "      <td>1.024165</td>\n",
                            "      <td>1.0</td>\n",
                            "      <td>2.00</td>\n",
                            "      <td>3.0</td>\n",
                            "      <td>4.00</td>\n",
                            "      <td>5.0</td>\n",
                            "    </tr>\n",
                            "    <tr>\n",
                            "      <th>EmployeeCount</th>\n",
                            "      <td>1470.0</td>\n",
                            "      <td>1.000000</td>\n",
                            "      <td>0.000000</td>\n",
                            "      <td>1.0</td>\n",
                            "      <td>1.00</td>\n",
                            "      <td>1.0</td>\n",
                            "      <td>1.00</td>\n",
                            "      <td>1.0</td>\n",
                            "    </tr>\n",
                            "    <tr>\n",
                            "      <th>EmployeeNumber</th>\n",
                            "      <td>1470.0</td>\n",
                            "      <td>1024.865306</td>\n",
                            "      <td>602.024335</td>\n",
                            "      <td>1.0</td>\n",
                            "      <td>491.25</td>\n",
                            "      <td>1020.5</td>\n",
                            "      <td>1555.75</td>\n",
                            "      <td>2068.0</td>\n",
                            "    </tr>\n",
                            "    <tr>\n",
                            "      <th>EnvironmentSatisfaction</th>\n",
                            "      <td>1470.0</td>\n",
                            "      <td>2.721769</td>\n",
                            "      <td>1.093082</td>\n",
                            "      <td>1.0</td>\n",
                            "      <td>2.00</td>\n",
                            "      <td>3.0</td>\n",
                            "      <td>4.00</td>\n",
                            "      <td>4.0</td>\n",
                            "    </tr>\n",
                            "    <tr>\n",
                            "      <th>HourlyRate</th>\n",
                            "      <td>1470.0</td>\n",
                            "      <td>65.891156</td>\n",
                            "      <td>20.329428</td>\n",
                            "      <td>30.0</td>\n",
                            "      <td>48.00</td>\n",
                            "      <td>66.0</td>\n",
                            "      <td>83.75</td>\n",
                            "      <td>100.0</td>\n",
                            "    </tr>\n",
                            "    <tr>\n",
                            "      <th>JobInvolvement</th>\n",
                            "      <td>1470.0</td>\n",
                            "      <td>2.729932</td>\n",
                            "      <td>0.711561</td>\n",
                            "      <td>1.0</td>\n",
                            "      <td>2.00</td>\n",
                            "      <td>3.0</td>\n",
                            "      <td>3.00</td>\n",
                            "      <td>4.0</td>\n",
                            "    </tr>\n",
                            "    <tr>\n",
                            "      <th>JobLevel</th>\n",
                            "      <td>1470.0</td>\n",
                            "      <td>2.063946</td>\n",
                            "      <td>1.106940</td>\n",
                            "      <td>1.0</td>\n",
                            "      <td>1.00</td>\n",
                            "      <td>2.0</td>\n",
                            "      <td>3.00</td>\n",
                            "      <td>5.0</td>\n",
                            "    </tr>\n",
                            "    <tr>\n",
                            "      <th>JobSatisfaction</th>\n",
                            "      <td>1470.0</td>\n",
                            "      <td>2.728571</td>\n",
                            "      <td>1.102846</td>\n",
                            "      <td>1.0</td>\n",
                            "      <td>2.00</td>\n",
                            "      <td>3.0</td>\n",
                            "      <td>4.00</td>\n",
                            "      <td>4.0</td>\n",
                            "    </tr>\n",
                            "    <tr>\n",
                            "      <th>MonthlyIncome</th>\n",
                            "      <td>1470.0</td>\n",
                            "      <td>6502.931293</td>\n",
                            "      <td>4707.956783</td>\n",
                            "      <td>1009.0</td>\n",
                            "      <td>2911.00</td>\n",
                            "      <td>4919.0</td>\n",
                            "      <td>8379.00</td>\n",
                            "      <td>19999.0</td>\n",
                            "    </tr>\n",
                            "    <tr>\n",
                            "      <th>MonthlyRate</th>\n",
                            "      <td>1470.0</td>\n",
                            "      <td>14313.103401</td>\n",
                            "      <td>7117.786044</td>\n",
                            "      <td>2094.0</td>\n",
                            "      <td>8047.00</td>\n",
                            "      <td>14235.5</td>\n",
                            "      <td>20461.50</td>\n",
                            "      <td>26999.0</td>\n",
                            "    </tr>\n",
                            "    <tr>\n",
                            "      <th>NumCompaniesWorked</th>\n",
                            "      <td>1470.0</td>\n",
                            "      <td>2.693197</td>\n",
                            "      <td>2.498009</td>\n",
                            "      <td>0.0</td>\n",
                            "      <td>1.00</td>\n",
                            "      <td>2.0</td>\n",
                            "      <td>4.00</td>\n",
                            "      <td>9.0</td>\n",
                            "    </tr>\n",
                            "    <tr>\n",
                            "      <th>PercentSalaryHike</th>\n",
                            "      <td>1470.0</td>\n",
                            "      <td>15.209524</td>\n",
                            "      <td>3.659938</td>\n",
                            "      <td>11.0</td>\n",
                            "      <td>12.00</td>\n",
                            "      <td>14.0</td>\n",
                            "      <td>18.00</td>\n",
                            "      <td>25.0</td>\n",
                            "    </tr>\n",
                            "    <tr>\n",
                            "      <th>PerformanceRating</th>\n",
                            "      <td>1470.0</td>\n",
                            "      <td>3.153741</td>\n",
                            "      <td>0.360824</td>\n",
                            "      <td>3.0</td>\n",
                            "      <td>3.00</td>\n",
                            "      <td>3.0</td>\n",
                            "      <td>3.00</td>\n",
                            "      <td>4.0</td>\n",
                            "    </tr>\n",
                            "    <tr>\n",
                            "      <th>RelationshipSatisfaction</th>\n",
                            "      <td>1470.0</td>\n",
                            "      <td>2.712245</td>\n",
                            "      <td>1.081209</td>\n",
                            "      <td>1.0</td>\n",
                            "      <td>2.00</td>\n",
                            "      <td>3.0</td>\n",
                            "      <td>4.00</td>\n",
                            "      <td>4.0</td>\n",
                            "    </tr>\n",
                            "    <tr>\n",
                            "      <th>StandardHours</th>\n",
                            "      <td>1470.0</td>\n",
                            "      <td>80.000000</td>\n",
                            "      <td>0.000000</td>\n",
                            "      <td>80.0</td>\n",
                            "      <td>80.00</td>\n",
                            "      <td>80.0</td>\n",
                            "      <td>80.00</td>\n",
                            "      <td>80.0</td>\n",
                            "    </tr>\n",
                            "    <tr>\n",
                            "      <th>StockOptionLevel</th>\n",
                            "      <td>1470.0</td>\n",
                            "      <td>0.793878</td>\n",
                            "      <td>0.852077</td>\n",
                            "      <td>0.0</td>\n",
                            "      <td>0.00</td>\n",
                            "      <td>1.0</td>\n",
                            "      <td>1.00</td>\n",
                            "      <td>3.0</td>\n",
                            "    </tr>\n",
                            "    <tr>\n",
                            "      <th>TotalWorkingYears</th>\n",
                            "      <td>1470.0</td>\n",
                            "      <td>11.279592</td>\n",
                            "      <td>7.780782</td>\n",
                            "      <td>0.0</td>\n",
                            "      <td>6.00</td>\n",
                            "      <td>10.0</td>\n",
                            "      <td>15.00</td>\n",
                            "      <td>40.0</td>\n",
                            "    </tr>\n",
                            "    <tr>\n",
                            "      <th>TrainingTimesLastYear</th>\n",
                            "      <td>1470.0</td>\n",
                            "      <td>2.799320</td>\n",
                            "      <td>1.289271</td>\n",
                            "      <td>0.0</td>\n",
                            "      <td>2.00</td>\n",
                            "      <td>3.0</td>\n",
                            "      <td>3.00</td>\n",
                            "      <td>6.0</td>\n",
                            "    </tr>\n",
                            "    <tr>\n",
                            "      <th>WorkLifeBalance</th>\n",
                            "      <td>1470.0</td>\n",
                            "      <td>2.761224</td>\n",
                            "      <td>0.706476</td>\n",
                            "      <td>1.0</td>\n",
                            "      <td>2.00</td>\n",
                            "      <td>3.0</td>\n",
                            "      <td>3.00</td>\n",
                            "      <td>4.0</td>\n",
                            "    </tr>\n",
                            "    <tr>\n",
                            "      <th>YearsAtCompany</th>\n",
                            "      <td>1470.0</td>\n",
                            "      <td>7.008163</td>\n",
                            "      <td>6.126525</td>\n",
                            "      <td>0.0</td>\n",
                            "      <td>3.00</td>\n",
                            "      <td>5.0</td>\n",
                            "      <td>9.00</td>\n",
                            "      <td>40.0</td>\n",
                            "    </tr>\n",
                            "    <tr>\n",
                            "      <th>YearsInCurrentRole</th>\n",
                            "      <td>1470.0</td>\n",
                            "      <td>4.229252</td>\n",
                            "      <td>3.623137</td>\n",
                            "      <td>0.0</td>\n",
                            "      <td>2.00</td>\n",
                            "      <td>3.0</td>\n",
                            "      <td>7.00</td>\n",
                            "      <td>18.0</td>\n",
                            "    </tr>\n",
                            "    <tr>\n",
                            "      <th>YearsSinceLastPromotion</th>\n",
                            "      <td>1470.0</td>\n",
                            "      <td>2.187755</td>\n",
                            "      <td>3.222430</td>\n",
                            "      <td>0.0</td>\n",
                            "      <td>0.00</td>\n",
                            "      <td>1.0</td>\n",
                            "      <td>3.00</td>\n",
                            "      <td>15.0</td>\n",
                            "    </tr>\n",
                            "    <tr>\n",
                            "      <th>YearsWithCurrManager</th>\n",
                            "      <td>1470.0</td>\n",
                            "      <td>4.123129</td>\n",
                            "      <td>3.568136</td>\n",
                            "      <td>0.0</td>\n",
                            "      <td>2.00</td>\n",
                            "      <td>3.0</td>\n",
                            "      <td>7.00</td>\n",
                            "      <td>17.0</td>\n",
                            "    </tr>\n",
                            "  </tbody>\n",
                            "</table>\n",
                            "</div>"
                        ]
                    },
                    "metadata": {},
                    "execution_count": 5
                }
            ],
            "metadata": {}
        },
        {
            "cell_type": "code",
            "execution_count": 6,
            "source": [
                "df.info()"
            ],
            "outputs": [
                {
                    "output_type": "stream",
                    "name": "stdout",
                    "text": [
                        "<class 'pandas.core.frame.DataFrame'>\n",
                        "RangeIndex: 1470 entries, 0 to 1469\n",
                        "Data columns (total 35 columns):\n",
                        " #   Column                    Non-Null Count  Dtype \n",
                        "---  ------                    --------------  ----- \n",
                        " 0   Age                       1470 non-null   int64 \n",
                        " 1   Attrition                 1470 non-null   object\n",
                        " 2   BusinessTravel            1470 non-null   object\n",
                        " 3   DailyRate                 1470 non-null   int64 \n",
                        " 4   Department                1470 non-null   object\n",
                        " 5   DistanceFromHome          1470 non-null   int64 \n",
                        " 6   Education                 1470 non-null   int64 \n",
                        " 7   EducationField            1470 non-null   object\n",
                        " 8   EmployeeCount             1470 non-null   int64 \n",
                        " 9   EmployeeNumber            1470 non-null   int64 \n",
                        " 10  EnvironmentSatisfaction   1470 non-null   int64 \n",
                        " 11  Gender                    1470 non-null   object\n",
                        " 12  HourlyRate                1470 non-null   int64 \n",
                        " 13  JobInvolvement            1470 non-null   int64 \n",
                        " 14  JobLevel                  1470 non-null   int64 \n",
                        " 15  JobRole                   1470 non-null   object\n",
                        " 16  JobSatisfaction           1470 non-null   int64 \n",
                        " 17  MaritalStatus             1470 non-null   object\n",
                        " 18  MonthlyIncome             1470 non-null   int64 \n",
                        " 19  MonthlyRate               1470 non-null   int64 \n",
                        " 20  NumCompaniesWorked        1470 non-null   int64 \n",
                        " 21  Over18                    1470 non-null   object\n",
                        " 22  OverTime                  1470 non-null   object\n",
                        " 23  PercentSalaryHike         1470 non-null   int64 \n",
                        " 24  PerformanceRating         1470 non-null   int64 \n",
                        " 25  RelationshipSatisfaction  1470 non-null   int64 \n",
                        " 26  StandardHours             1470 non-null   int64 \n",
                        " 27  StockOptionLevel          1470 non-null   int64 \n",
                        " 28  TotalWorkingYears         1470 non-null   int64 \n",
                        " 29  TrainingTimesLastYear     1470 non-null   int64 \n",
                        " 30  WorkLifeBalance           1470 non-null   int64 \n",
                        " 31  YearsAtCompany            1470 non-null   int64 \n",
                        " 32  YearsInCurrentRole        1470 non-null   int64 \n",
                        " 33  YearsSinceLastPromotion   1470 non-null   int64 \n",
                        " 34  YearsWithCurrManager      1470 non-null   int64 \n",
                        "dtypes: int64(26), object(9)\n",
                        "memory usage: 402.1+ KB\n"
                    ]
                }
            ],
            "metadata": {}
        },
        {
            "cell_type": "markdown",
            "source": [
                "Here we have 9 categorical features. The rest are ordinal or continuous values."
            ],
            "metadata": {}
        },
        {
            "cell_type": "markdown",
            "source": [
                "Let's look at the categorical columns"
            ],
            "metadata": {}
        },
        {
            "cell_type": "code",
            "execution_count": 7,
            "source": [
                "categories = df.select_dtypes([object]).columns\r\n",
                "print(categories)"
            ],
            "outputs": [
                {
                    "output_type": "stream",
                    "name": "stdout",
                    "text": [
                        "Index(['Attrition', 'BusinessTravel', 'Department', 'EducationField', 'Gender',\n",
                        "       'JobRole', 'MaritalStatus', 'Over18', 'OverTime'],\n",
                        "      dtype='object')\n"
                    ]
                }
            ],
            "metadata": {}
        },
        {
            "cell_type": "code",
            "execution_count": 20,
            "source": [
                "df.select_dtypes([object]).head()"
            ],
            "outputs": [
                {
                    "output_type": "execute_result",
                    "data": {
                        "text/plain": [
                            "  Attrition     BusinessTravel              Department EducationField  Gender  \\\n",
                            "0       Yes      Travel_Rarely                   Sales  Life Sciences  Female   \n",
                            "1        No  Travel_Frequently  Research & Development  Life Sciences    Male   \n",
                            "2       Yes      Travel_Rarely  Research & Development          Other    Male   \n",
                            "3        No  Travel_Frequently  Research & Development  Life Sciences  Female   \n",
                            "4        No      Travel_Rarely  Research & Development        Medical    Male   \n",
                            "\n",
                            "                 JobRole MaritalStatus Over18 OverTime  \n",
                            "0        Sales Executive        Single      Y      Yes  \n",
                            "1     Research Scientist       Married      Y       No  \n",
                            "2  Laboratory Technician        Single      Y      Yes  \n",
                            "3     Research Scientist       Married      Y      Yes  \n",
                            "4  Laboratory Technician       Married      Y       No  "
                        ],
                        "text/html": [
                            "<div>\n",
                            "<style scoped>\n",
                            "    .dataframe tbody tr th:only-of-type {\n",
                            "        vertical-align: middle;\n",
                            "    }\n",
                            "\n",
                            "    .dataframe tbody tr th {\n",
                            "        vertical-align: top;\n",
                            "    }\n",
                            "\n",
                            "    .dataframe thead th {\n",
                            "        text-align: right;\n",
                            "    }\n",
                            "</style>\n",
                            "<table border=\"1\" class=\"dataframe\">\n",
                            "  <thead>\n",
                            "    <tr style=\"text-align: right;\">\n",
                            "      <th></th>\n",
                            "      <th>Attrition</th>\n",
                            "      <th>BusinessTravel</th>\n",
                            "      <th>Department</th>\n",
                            "      <th>EducationField</th>\n",
                            "      <th>Gender</th>\n",
                            "      <th>JobRole</th>\n",
                            "      <th>MaritalStatus</th>\n",
                            "      <th>Over18</th>\n",
                            "      <th>OverTime</th>\n",
                            "    </tr>\n",
                            "  </thead>\n",
                            "  <tbody>\n",
                            "    <tr>\n",
                            "      <th>0</th>\n",
                            "      <td>Yes</td>\n",
                            "      <td>Travel_Rarely</td>\n",
                            "      <td>Sales</td>\n",
                            "      <td>Life Sciences</td>\n",
                            "      <td>Female</td>\n",
                            "      <td>Sales Executive</td>\n",
                            "      <td>Single</td>\n",
                            "      <td>Y</td>\n",
                            "      <td>Yes</td>\n",
                            "    </tr>\n",
                            "    <tr>\n",
                            "      <th>1</th>\n",
                            "      <td>No</td>\n",
                            "      <td>Travel_Frequently</td>\n",
                            "      <td>Research &amp; Development</td>\n",
                            "      <td>Life Sciences</td>\n",
                            "      <td>Male</td>\n",
                            "      <td>Research Scientist</td>\n",
                            "      <td>Married</td>\n",
                            "      <td>Y</td>\n",
                            "      <td>No</td>\n",
                            "    </tr>\n",
                            "    <tr>\n",
                            "      <th>2</th>\n",
                            "      <td>Yes</td>\n",
                            "      <td>Travel_Rarely</td>\n",
                            "      <td>Research &amp; Development</td>\n",
                            "      <td>Other</td>\n",
                            "      <td>Male</td>\n",
                            "      <td>Laboratory Technician</td>\n",
                            "      <td>Single</td>\n",
                            "      <td>Y</td>\n",
                            "      <td>Yes</td>\n",
                            "    </tr>\n",
                            "    <tr>\n",
                            "      <th>3</th>\n",
                            "      <td>No</td>\n",
                            "      <td>Travel_Frequently</td>\n",
                            "      <td>Research &amp; Development</td>\n",
                            "      <td>Life Sciences</td>\n",
                            "      <td>Female</td>\n",
                            "      <td>Research Scientist</td>\n",
                            "      <td>Married</td>\n",
                            "      <td>Y</td>\n",
                            "      <td>Yes</td>\n",
                            "    </tr>\n",
                            "    <tr>\n",
                            "      <th>4</th>\n",
                            "      <td>No</td>\n",
                            "      <td>Travel_Rarely</td>\n",
                            "      <td>Research &amp; Development</td>\n",
                            "      <td>Medical</td>\n",
                            "      <td>Male</td>\n",
                            "      <td>Laboratory Technician</td>\n",
                            "      <td>Married</td>\n",
                            "      <td>Y</td>\n",
                            "      <td>No</td>\n",
                            "    </tr>\n",
                            "  </tbody>\n",
                            "</table>\n",
                            "</div>"
                        ]
                    },
                    "metadata": {},
                    "execution_count": 20
                }
            ],
            "metadata": {}
        },
        {
            "cell_type": "markdown",
            "source": [
                "Let's look at the unique values of each category."
            ],
            "metadata": {}
        },
        {
            "cell_type": "code",
            "execution_count": 13,
            "source": [
                "for i in df.select_dtypes([object]).columns:\r\n",
                "    print(i,\":\",df[i].unique())"
            ],
            "outputs": [
                {
                    "output_type": "stream",
                    "name": "stdout",
                    "text": [
                        "Attrition : ['Yes' 'No']\n",
                        "BusinessTravel : ['Travel_Rarely' 'Travel_Frequently' 'Non-Travel']\n",
                        "Department : ['Sales' 'Research & Development' 'Human Resources']\n",
                        "EducationField : ['Life Sciences' 'Other' 'Medical' 'Marketing' 'Technical Degree'\n",
                        " 'Human Resources']\n",
                        "Gender : ['Female' 'Male']\n",
                        "JobRole : ['Sales Executive' 'Research Scientist' 'Laboratory Technician'\n",
                        " 'Manufacturing Director' 'Healthcare Representative' 'Manager'\n",
                        " 'Sales Representative' 'Research Director' 'Human Resources']\n",
                        "MaritalStatus : ['Single' 'Married' 'Divorced']\n",
                        "Over18 : ['Y']\n",
                        "OverTime : ['Yes' 'No']\n"
                    ]
                }
            ],
            "metadata": {}
        },
        {
            "cell_type": "markdown",
            "source": [
                "| Feature | Comment |\r\n",
                "| --- | --- |\r\n",
                "| **Attrition** | This is the label of interest. We will convert this to a binary variable {1: yes, 0: no} |\r\n",
                "| **BusinessTravel** | We will convert this to an ordinal variable {0: Non-Travel, 1: Travel_Rarely, 2: Travel_Frequently} |\r\n",
                "| **Department** | This is purely categorical, so we will have to one-hot encode or convert to a dummy variable |\r\n",
                "| **EducationField** | This is purely categorical, so we will have to one-hot encode or convert to a dummy variable |\r\n",
                "| **Gender** | There are only 2 values in the dataset, so we can convert this to a binary variable. This is legally protected data, so we have to be careful that using this feature does not lead to any forms of gender discrimination. |\r\n",
                "| **JobRole** | This is purely categorical, so we will have to one-hot encode or convert to a dummy variable. This category has a decent number of values. By converting it, we are increasing our dimensionality by 9. This could lead to the curse of dimensionality. |\r\n",
                "| **MaritalStatus** | Categorical, but one could make the case to make it ordinal. If we made it ordinal, then the mapping would be {0: Single, 1: Married, 2: Divorced}. Again, we have to be careful as using this information to make a hiring decision would be illegal. |\r\n",
                "| **Over18** | This feature only has 1 value, so we will drop it. |\r\n",
                "| **OverTime** | We will convert this to a binary variable {0: No, 1: Yes} |"
            ],
            "metadata": {}
        },
        {
            "cell_type": "markdown",
            "source": [
                "For now we are transforming the ordinal features into their numeric typed columns and drop the constant column."
            ],
            "metadata": {}
        },
        {
            "cell_type": "code",
            "execution_count": 62,
            "source": [
                "df = df.drop(\"Over18\",axis=1)\r\n",
                "df[\"Attrition\"] = df[\"Attrition\"].map({\"No\": 0, \"Yes\": 1})\r\n",
                "df[\"BusinessTravel\"] = df[\"BusinessTravel\"].map({\"Non-Travel\": 0, \"Travel_Rarely\": 1,\"Travel_Frequently\": 2})\r\n",
                "df[\"OverTime\"] = df[\"OverTime\"].map({\"No\": 0, \"Yes\": 1})"
            ],
            "outputs": [],
            "metadata": {}
        },
        {
            "cell_type": "markdown",
            "source": [
                "Let's look at the numerical columns."
            ],
            "metadata": {}
        },
        {
            "cell_type": "code",
            "execution_count": 64,
            "source": [
                "numerical = df.select_dtypes([np.int64]).columns\r\n",
                "print(numerical)"
            ],
            "outputs": [
                {
                    "output_type": "stream",
                    "name": "stdout",
                    "text": [
                        "Index(['Age', 'Attrition', 'BusinessTravel', 'DailyRate', 'DistanceFromHome',\n",
                        "       'Education', 'EmployeeCount', 'EmployeeNumber',\n",
                        "       'EnvironmentSatisfaction', 'HourlyRate', 'JobInvolvement', 'JobLevel',\n",
                        "       'JobSatisfaction', 'MonthlyIncome', 'MonthlyRate', 'NumCompaniesWorked',\n",
                        "       'OverTime', 'PercentSalaryHike', 'PerformanceRating',\n",
                        "       'RelationshipSatisfaction', 'StandardHours', 'StockOptionLevel',\n",
                        "       'TotalWorkingYears', 'TrainingTimesLastYear', 'WorkLifeBalance',\n",
                        "       'YearsAtCompany', 'YearsInCurrentRole', 'YearsSinceLastPromotion',\n",
                        "       'YearsWithCurrManager'],\n",
                        "      dtype='object')\n"
                    ]
                }
            ],
            "metadata": {}
        },
        {
            "cell_type": "code",
            "execution_count": 65,
            "source": [
                "df.select_dtypes([np.int64]).head()"
            ],
            "outputs": [
                {
                    "output_type": "execute_result",
                    "data": {
                        "text/plain": [
                            "   Age  Attrition  BusinessTravel  DailyRate  DistanceFromHome  Education  \\\n",
                            "0   41          1               1       1102                 1          2   \n",
                            "1   49          0               2        279                 8          1   \n",
                            "2   37          1               1       1373                 2          2   \n",
                            "3   33          0               2       1392                 3          4   \n",
                            "4   27          0               1        591                 2          1   \n",
                            "\n",
                            "   EmployeeCount  EmployeeNumber  EnvironmentSatisfaction  HourlyRate  \\\n",
                            "0              1               1                        2          94   \n",
                            "1              1               2                        3          61   \n",
                            "2              1               4                        4          92   \n",
                            "3              1               5                        4          56   \n",
                            "4              1               7                        1          40   \n",
                            "\n",
                            "   JobInvolvement  JobLevel  JobSatisfaction  MonthlyIncome  MonthlyRate  \\\n",
                            "0               3         2                4           5993        19479   \n",
                            "1               2         2                2           5130        24907   \n",
                            "2               2         1                3           2090         2396   \n",
                            "3               3         1                3           2909        23159   \n",
                            "4               3         1                2           3468        16632   \n",
                            "\n",
                            "   NumCompaniesWorked  OverTime  PercentSalaryHike  PerformanceRating  \\\n",
                            "0                   8         1                 11                  3   \n",
                            "1                   1         0                 23                  4   \n",
                            "2                   6         1                 15                  3   \n",
                            "3                   1         1                 11                  3   \n",
                            "4                   9         0                 12                  3   \n",
                            "\n",
                            "   RelationshipSatisfaction  StandardHours  StockOptionLevel  \\\n",
                            "0                         1             80                 0   \n",
                            "1                         4             80                 1   \n",
                            "2                         2             80                 0   \n",
                            "3                         3             80                 0   \n",
                            "4                         4             80                 1   \n",
                            "\n",
                            "   TotalWorkingYears  TrainingTimesLastYear  WorkLifeBalance  YearsAtCompany  \\\n",
                            "0                  8                      0                1               6   \n",
                            "1                 10                      3                3              10   \n",
                            "2                  7                      3                3               0   \n",
                            "3                  8                      3                3               8   \n",
                            "4                  6                      3                3               2   \n",
                            "\n",
                            "   YearsInCurrentRole  YearsSinceLastPromotion  YearsWithCurrManager  \n",
                            "0                   4                        0                     5  \n",
                            "1                   7                        1                     7  \n",
                            "2                   0                        0                     0  \n",
                            "3                   7                        3                     0  \n",
                            "4                   2                        2                     2  "
                        ],
                        "text/html": [
                            "<div>\n",
                            "<style scoped>\n",
                            "    .dataframe tbody tr th:only-of-type {\n",
                            "        vertical-align: middle;\n",
                            "    }\n",
                            "\n",
                            "    .dataframe tbody tr th {\n",
                            "        vertical-align: top;\n",
                            "    }\n",
                            "\n",
                            "    .dataframe thead th {\n",
                            "        text-align: right;\n",
                            "    }\n",
                            "</style>\n",
                            "<table border=\"1\" class=\"dataframe\">\n",
                            "  <thead>\n",
                            "    <tr style=\"text-align: right;\">\n",
                            "      <th></th>\n",
                            "      <th>Age</th>\n",
                            "      <th>Attrition</th>\n",
                            "      <th>BusinessTravel</th>\n",
                            "      <th>DailyRate</th>\n",
                            "      <th>DistanceFromHome</th>\n",
                            "      <th>Education</th>\n",
                            "      <th>EmployeeCount</th>\n",
                            "      <th>EmployeeNumber</th>\n",
                            "      <th>EnvironmentSatisfaction</th>\n",
                            "      <th>HourlyRate</th>\n",
                            "      <th>JobInvolvement</th>\n",
                            "      <th>JobLevel</th>\n",
                            "      <th>JobSatisfaction</th>\n",
                            "      <th>MonthlyIncome</th>\n",
                            "      <th>MonthlyRate</th>\n",
                            "      <th>NumCompaniesWorked</th>\n",
                            "      <th>OverTime</th>\n",
                            "      <th>PercentSalaryHike</th>\n",
                            "      <th>PerformanceRating</th>\n",
                            "      <th>RelationshipSatisfaction</th>\n",
                            "      <th>StandardHours</th>\n",
                            "      <th>StockOptionLevel</th>\n",
                            "      <th>TotalWorkingYears</th>\n",
                            "      <th>TrainingTimesLastYear</th>\n",
                            "      <th>WorkLifeBalance</th>\n",
                            "      <th>YearsAtCompany</th>\n",
                            "      <th>YearsInCurrentRole</th>\n",
                            "      <th>YearsSinceLastPromotion</th>\n",
                            "      <th>YearsWithCurrManager</th>\n",
                            "    </tr>\n",
                            "  </thead>\n",
                            "  <tbody>\n",
                            "    <tr>\n",
                            "      <th>0</th>\n",
                            "      <td>41</td>\n",
                            "      <td>1</td>\n",
                            "      <td>1</td>\n",
                            "      <td>1102</td>\n",
                            "      <td>1</td>\n",
                            "      <td>2</td>\n",
                            "      <td>1</td>\n",
                            "      <td>1</td>\n",
                            "      <td>2</td>\n",
                            "      <td>94</td>\n",
                            "      <td>3</td>\n",
                            "      <td>2</td>\n",
                            "      <td>4</td>\n",
                            "      <td>5993</td>\n",
                            "      <td>19479</td>\n",
                            "      <td>8</td>\n",
                            "      <td>1</td>\n",
                            "      <td>11</td>\n",
                            "      <td>3</td>\n",
                            "      <td>1</td>\n",
                            "      <td>80</td>\n",
                            "      <td>0</td>\n",
                            "      <td>8</td>\n",
                            "      <td>0</td>\n",
                            "      <td>1</td>\n",
                            "      <td>6</td>\n",
                            "      <td>4</td>\n",
                            "      <td>0</td>\n",
                            "      <td>5</td>\n",
                            "    </tr>\n",
                            "    <tr>\n",
                            "      <th>1</th>\n",
                            "      <td>49</td>\n",
                            "      <td>0</td>\n",
                            "      <td>2</td>\n",
                            "      <td>279</td>\n",
                            "      <td>8</td>\n",
                            "      <td>1</td>\n",
                            "      <td>1</td>\n",
                            "      <td>2</td>\n",
                            "      <td>3</td>\n",
                            "      <td>61</td>\n",
                            "      <td>2</td>\n",
                            "      <td>2</td>\n",
                            "      <td>2</td>\n",
                            "      <td>5130</td>\n",
                            "      <td>24907</td>\n",
                            "      <td>1</td>\n",
                            "      <td>0</td>\n",
                            "      <td>23</td>\n",
                            "      <td>4</td>\n",
                            "      <td>4</td>\n",
                            "      <td>80</td>\n",
                            "      <td>1</td>\n",
                            "      <td>10</td>\n",
                            "      <td>3</td>\n",
                            "      <td>3</td>\n",
                            "      <td>10</td>\n",
                            "      <td>7</td>\n",
                            "      <td>1</td>\n",
                            "      <td>7</td>\n",
                            "    </tr>\n",
                            "    <tr>\n",
                            "      <th>2</th>\n",
                            "      <td>37</td>\n",
                            "      <td>1</td>\n",
                            "      <td>1</td>\n",
                            "      <td>1373</td>\n",
                            "      <td>2</td>\n",
                            "      <td>2</td>\n",
                            "      <td>1</td>\n",
                            "      <td>4</td>\n",
                            "      <td>4</td>\n",
                            "      <td>92</td>\n",
                            "      <td>2</td>\n",
                            "      <td>1</td>\n",
                            "      <td>3</td>\n",
                            "      <td>2090</td>\n",
                            "      <td>2396</td>\n",
                            "      <td>6</td>\n",
                            "      <td>1</td>\n",
                            "      <td>15</td>\n",
                            "      <td>3</td>\n",
                            "      <td>2</td>\n",
                            "      <td>80</td>\n",
                            "      <td>0</td>\n",
                            "      <td>7</td>\n",
                            "      <td>3</td>\n",
                            "      <td>3</td>\n",
                            "      <td>0</td>\n",
                            "      <td>0</td>\n",
                            "      <td>0</td>\n",
                            "      <td>0</td>\n",
                            "    </tr>\n",
                            "    <tr>\n",
                            "      <th>3</th>\n",
                            "      <td>33</td>\n",
                            "      <td>0</td>\n",
                            "      <td>2</td>\n",
                            "      <td>1392</td>\n",
                            "      <td>3</td>\n",
                            "      <td>4</td>\n",
                            "      <td>1</td>\n",
                            "      <td>5</td>\n",
                            "      <td>4</td>\n",
                            "      <td>56</td>\n",
                            "      <td>3</td>\n",
                            "      <td>1</td>\n",
                            "      <td>3</td>\n",
                            "      <td>2909</td>\n",
                            "      <td>23159</td>\n",
                            "      <td>1</td>\n",
                            "      <td>1</td>\n",
                            "      <td>11</td>\n",
                            "      <td>3</td>\n",
                            "      <td>3</td>\n",
                            "      <td>80</td>\n",
                            "      <td>0</td>\n",
                            "      <td>8</td>\n",
                            "      <td>3</td>\n",
                            "      <td>3</td>\n",
                            "      <td>8</td>\n",
                            "      <td>7</td>\n",
                            "      <td>3</td>\n",
                            "      <td>0</td>\n",
                            "    </tr>\n",
                            "    <tr>\n",
                            "      <th>4</th>\n",
                            "      <td>27</td>\n",
                            "      <td>0</td>\n",
                            "      <td>1</td>\n",
                            "      <td>591</td>\n",
                            "      <td>2</td>\n",
                            "      <td>1</td>\n",
                            "      <td>1</td>\n",
                            "      <td>7</td>\n",
                            "      <td>1</td>\n",
                            "      <td>40</td>\n",
                            "      <td>3</td>\n",
                            "      <td>1</td>\n",
                            "      <td>2</td>\n",
                            "      <td>3468</td>\n",
                            "      <td>16632</td>\n",
                            "      <td>9</td>\n",
                            "      <td>0</td>\n",
                            "      <td>12</td>\n",
                            "      <td>3</td>\n",
                            "      <td>4</td>\n",
                            "      <td>80</td>\n",
                            "      <td>1</td>\n",
                            "      <td>6</td>\n",
                            "      <td>3</td>\n",
                            "      <td>3</td>\n",
                            "      <td>2</td>\n",
                            "      <td>2</td>\n",
                            "      <td>2</td>\n",
                            "      <td>2</td>\n",
                            "    </tr>\n",
                            "  </tbody>\n",
                            "</table>\n",
                            "</div>"
                        ]
                    },
                    "metadata": {},
                    "execution_count": 65
                }
            ],
            "metadata": {}
        },
        {
            "cell_type": "markdown",
            "source": [
                "In the numerical features, we have 2 columns that have a constant value: StandardHours and EmployeeCount."
            ],
            "metadata": {}
        },
        {
            "cell_type": "code",
            "execution_count": 66,
            "source": [
                "print(df[\"StandardHours\"].unique())\r\n",
                "print(df[\"EmployeeCount\"].unique())"
            ],
            "outputs": [
                {
                    "output_type": "stream",
                    "name": "stdout",
                    "text": [
                        "[80]\n",
                        "[1]\n"
                    ]
                }
            ],
            "metadata": {}
        },
        {
            "cell_type": "code",
            "execution_count": 67,
            "source": [
                "numerical = list(numerical)\r\n",
                "numerical.remove(\"StandardHours\")\r\n",
                "numerical.remove(\"EmployeeCount\")"
            ],
            "outputs": [],
            "metadata": {}
        },
        {
            "cell_type": "code",
            "execution_count": 68,
            "source": [
                "corr = df[numerical].corr()"
            ],
            "outputs": [],
            "metadata": {}
        },
        {
            "cell_type": "code",
            "execution_count": 70,
            "source": [
                "trace = go.Heatmap(\r\n",
                "    z=np.abs(corr.values),\r\n",
                "    x=corr.columns.values,\r\n",
                "    y=corr.columns.values,\r\n",
                "    colorscale=\"greys\"\r\n",
                ")\r\n",
                "fig = go.Figure(data=trace)\r\n",
                "fig.update_layout(\r\n",
                "    title=\"Interactive correlation heatmap of numerical features\",\r\n",
                "    autosize=False,\r\n",
                "    width=750,\r\n",
                "    height=750\r\n",
                ")\r\n",
                "fig.show()"
            ],
            "outputs": [
                {
                    "output_type": "display_data",
                    "data": {
                        "application/vnd.plotly.v1+json": {
                            "config": {
                                "plotlyServerURL": "https://plot.ly"
                            },
                            "data": [
                                {
                                    "colorscale": [
                                        [
                                            0,
                                            "rgb(255,255,255)"
                                        ],
                                        [
                                            0.125,
                                            "rgb(240,240,240)"
                                        ],
                                        [
                                            0.25,
                                            "rgb(217,217,217)"
                                        ],
                                        [
                                            0.375,
                                            "rgb(189,189,189)"
                                        ],
                                        [
                                            0.5,
                                            "rgb(150,150,150)"
                                        ],
                                        [
                                            0.625,
                                            "rgb(115,115,115)"
                                        ],
                                        [
                                            0.75,
                                            "rgb(82,82,82)"
                                        ],
                                        [
                                            0.875,
                                            "rgb(37,37,37)"
                                        ],
                                        [
                                            1,
                                            "rgb(0,0,0)"
                                        ]
                                    ],
                                    "type": "heatmap",
                                    "x": [
                                        "Age",
                                        "Attrition",
                                        "BusinessTravel",
                                        "DailyRate",
                                        "DistanceFromHome",
                                        "Education",
                                        "EmployeeNumber",
                                        "EnvironmentSatisfaction",
                                        "HourlyRate",
                                        "JobInvolvement",
                                        "JobLevel",
                                        "JobSatisfaction",
                                        "MonthlyIncome",
                                        "MonthlyRate",
                                        "NumCompaniesWorked",
                                        "OverTime",
                                        "PercentSalaryHike",
                                        "PerformanceRating",
                                        "RelationshipSatisfaction",
                                        "StockOptionLevel",
                                        "TotalWorkingYears",
                                        "TrainingTimesLastYear",
                                        "WorkLifeBalance",
                                        "YearsAtCompany",
                                        "YearsInCurrentRole",
                                        "YearsSinceLastPromotion",
                                        "YearsWithCurrManager"
                                    ],
                                    "y": [
                                        "Age",
                                        "Attrition",
                                        "BusinessTravel",
                                        "DailyRate",
                                        "DistanceFromHome",
                                        "Education",
                                        "EmployeeNumber",
                                        "EnvironmentSatisfaction",
                                        "HourlyRate",
                                        "JobInvolvement",
                                        "JobLevel",
                                        "JobSatisfaction",
                                        "MonthlyIncome",
                                        "MonthlyRate",
                                        "NumCompaniesWorked",
                                        "OverTime",
                                        "PercentSalaryHike",
                                        "PerformanceRating",
                                        "RelationshipSatisfaction",
                                        "StockOptionLevel",
                                        "TotalWorkingYears",
                                        "TrainingTimesLastYear",
                                        "WorkLifeBalance",
                                        "YearsAtCompany",
                                        "YearsInCurrentRole",
                                        "YearsSinceLastPromotion",
                                        "YearsWithCurrManager"
                                    ],
                                    "z": [
                                        [
                                            1,
                                            0.15920500686577962,
                                            0.011807332390251508,
                                            0.010660942645538433,
                                            0.00168612014808715,
                                            0.2080337310142398,
                                            0.0101454670768599,
                                            0.010146427861437268,
                                            0.024286542550967197,
                                            0.029819958629590578,
                                            0.5096042284323842,
                                            0.00489187714868713,
                                            0.4978545669265801,
                                            0.02805116713392273,
                                            0.2996347579836926,
                                            0.02806235708412427,
                                            0.0036335849148618872,
                                            0.0019038955127587383,
                                            0.053534719671229365,
                                            0.037509712424777526,
                                            0.6803805357911985,
                                            0.01962081894269849,
                                            0.021490027957098715,
                                            0.3113087697450989,
                                            0.21290105556556793,
                                            0.2165133678516537,
                                            0.20208860237515264
                                        ],
                                        [
                                            0.15920500686577962,
                                            1,
                                            0.1270064831524363,
                                            0.05665199186762936,
                                            0.07792358295570369,
                                            0.031372819640049315,
                                            0.010577242759242786,
                                            0.10336897833793603,
                                            0.006845549572139952,
                                            0.13001595678605374,
                                            0.16910475093102761,
                                            0.10348112606902123,
                                            0.15983958238498852,
                                            0.015170212530471473,
                                            0.04349373905781363,
                                            0.24611799424580436,
                                            0.01347820205743911,
                                            0.0028887517110809,
                                            0.0458722788811267,
                                            0.13714491893332562,
                                            0.17106324613622612,
                                            0.05947779855642057,
                                            0.06393904721740885,
                                            0.13439221398997708,
                                            0.16054500426770077,
                                            0.033018775142584306,
                                            0.1561993159016288
                                        ],
                                        [
                                            0.011807332390251508,
                                            0.1270064831524363,
                                            1,
                                            0.015538890517860457,
                                            0.009696041173051326,
                                            0.008669840085109026,
                                            0.018538474125587248,
                                            0.01130993466485447,
                                            0.004163983069314312,
                                            0.029299958629822435,
                                            0.011695830250404226,
                                            0.008665958530506819,
                                            0.013449946655490244,
                                            0.008440491624793354,
                                            0.030742984154196643,
                                            0.04275151615331701,
                                            0.02572694344700975,
                                            0.0016833372031895275,
                                            0.008926303364628272,
                                            0.02825695328706266,
                                            0.00797211001409594,
                                            0.01635721949377971,
                                            0.004208799278266388,
                                            0.005212127727863635,
                                            0.005336423553402227,
                                            0.0052220204697793204,
                                            0.0002285118470293628
                                        ],
                                        [
                                            0.010660942645538433,
                                            0.05665199186762936,
                                            0.015538890517860457,
                                            1,
                                            0.00498533735255263,
                                            0.01680643320915763,
                                            0.05099043365447757,
                                            0.018354854300385557,
                                            0.023381421528320526,
                                            0.04613487399781112,
                                            0.0029663348551116197,
                                            0.030571007837143983,
                                            0.007707058872006053,
                                            0.03218160152258194,
                                            0.0381534342794098,
                                            0.009134969901135003,
                                            0.022703677496334968,
                                            0.00047329632718855213,
                                            0.007846030957248387,
                                            0.04214279637720667,
                                            0.014514738706320902,
                                            0.002452542712083144,
                                            0.03784805100578179,
                                            0.03405476756854742,
                                            0.009932014960094215,
                                            0.033228984787772024,
                                            0.026363178228837676
                                        ],
                                        [
                                            0.00168612014808715,
                                            0.07792358295570369,
                                            0.009696041173051326,
                                            0.00498533735255263,
                                            1,
                                            0.021041825624123392,
                                            0.032916407199243845,
                                            0.016075326996493524,
                                            0.03113058561176572,
                                            0.008783279886444255,
                                            0.005302730554496216,
                                            0.0036688391677205793,
                                            0.017014444745275862,
                                            0.02747286354888413,
                                            0.029250804197293017,
                                            0.025513634949946202,
                                            0.040235377459193075,
                                            0.027109618481976,
                                            0.006557474646578779,
                                            0.04487199885318152,
                                            0.004628425863783857,
                                            0.036942234339915794,
                                            0.02655600410656903,
                                            0.009507719899011289,
                                            0.018844999108945746,
                                            0.010028835943115395,
                                            0.014406048430630005
                                        ],
                                        [
                                            0.2080337310142398,
                                            0.031372819640049315,
                                            0.008669840085109026,
                                            0.01680643320915763,
                                            0.021041825624123392,
                                            1,
                                            0.042070093029327675,
                                            0.027128313256511792,
                                            0.01677482888096076,
                                            0.042437634318607954,
                                            0.10158888624850043,
                                            0.011296116736574002,
                                            0.09496067704188883,
                                            0.026084197160047493,
                                            0.12631656017668452,
                                            0.020321767395703745,
                                            0.011110940860654192,
                                            0.024538791164833557,
                                            0.009118376696381533,
                                            0.018422220204016834,
                                            0.1482796965388733,
                                            0.025100241137933348,
                                            0.00981918930978191,
                                            0.06911369603133866,
                                            0.06023555412069576,
                                            0.054254333591320224,
                                            0.06906537825528458
                                        ],
                                        [
                                            0.0101454670768599,
                                            0.010577242759242786,
                                            0.018538474125587248,
                                            0.05099043365447757,
                                            0.032916407199243845,
                                            0.042070093029327675,
                                            1,
                                            0.017620802485586586,
                                            0.035179212418708077,
                                            0.0068879229870375,
                                            0.018519193974227376,
                                            0.04624673493941775,
                                            0.01482851587378469,
                                            0.012648229168461627,
                                            0.0012510320398018396,
                                            0.024037286786365363,
                                            0.012943995546151714,
                                            0.02035882514695762,
                                            0.06986141146763755,
                                            0.06222669251362305,
                                            0.014365198461301121,
                                            0.023603169591926734,
                                            0.010308641437965905,
                                            0.011240463708114047,
                                            0.008416311998425954,
                                            0.009019064206633414,
                                            0.009196645292770315
                                        ],
                                        [
                                            0.010146427861437268,
                                            0.10336897833793603,
                                            0.01130993466485447,
                                            0.018354854300385557,
                                            0.016075326996493524,
                                            0.027128313256511792,
                                            0.017620802485586586,
                                            1,
                                            0.04985695620300066,
                                            0.008277598171759099,
                                            0.001211699448913883,
                                            0.006784352599075007,
                                            0.0062590877547801654,
                                            0.037599622865715374,
                                            0.012594323218943297,
                                            0.07013172677409499,
                                            0.031701195241792046,
                                            0.02954795229768088,
                                            0.007665383541074558,
                                            0.0034321577550574162,
                                            0.002693070388534207,
                                            0.01935930834713247,
                                            0.027627295460115428,
                                            0.0014575491911164862,
                                            0.01800746014287853,
                                            0.016193605568453326,
                                            0.004998722628107581
                                        ],
                                        [
                                            0.024286542550967197,
                                            0.006845549572139952,
                                            0.004163983069314312,
                                            0.023381421528320526,
                                            0.03113058561176572,
                                            0.01677482888096076,
                                            0.035179212418708077,
                                            0.04985695620300066,
                                            1,
                                            0.04286064097152976,
                                            0.027853486405547218,
                                            0.07133462437378787,
                                            0.015794304380892982,
                                            0.015296749550649661,
                                            0.02215688339019683,
                                            0.007781974360999847,
                                            0.00906198625374016,
                                            0.002171697427810162,
                                            0.0013304527859508606,
                                            0.050263399065119486,
                                            0.002333681823322269,
                                            0.008547685209270649,
                                            0.004607233750264554,
                                            0.019581616209121275,
                                            0.02410622020878498,
                                            0.02671558606433524,
                                            0.020123200184066006
                                        ],
                                        [
                                            0.029819958629590578,
                                            0.13001595678605374,
                                            0.029299958629822435,
                                            0.04613487399781112,
                                            0.008783279886444255,
                                            0.042437634318607954,
                                            0.0068879229870375,
                                            0.008277598171759099,
                                            0.04286064097152976,
                                            1,
                                            0.012629882671190631,
                                            0.021475910335306454,
                                            0.015271490778732832,
                                            0.016322079053317298,
                                            0.015012413243110999,
                                            0.0035067105694042582,
                                            0.017204572244480378,
                                            0.029071333439069817,
                                            0.034296820611197744,
                                            0.021522640378023858,
                                            0.0055331820574074635,
                                            0.015337825759429116,
                                            0.014616593162761865,
                                            0.021355426979629725,
                                            0.00871696349761169,
                                            0.024184292365179074,
                                            0.025975807949088936
                                        ],
                                        [
                                            0.5096042284323842,
                                            0.16910475093102761,
                                            0.011695830250404226,
                                            0.0029663348551116197,
                                            0.005302730554496216,
                                            0.10158888624850043,
                                            0.018519193974227376,
                                            0.001211699448913883,
                                            0.027853486405547218,
                                            0.012629882671190631,
                                            1,
                                            0.0019437080267456581,
                                            0.9502999134798473,
                                            0.03956295104568388,
                                            0.1425011238104873,
                                            0.0005440477748809324,
                                            0.03473049227941817,
                                            0.021222082108857152,
                                            0.021641510532591595,
                                            0.013983910528615457,
                                            0.7822078045362748,
                                            0.018190550193549416,
                                            0.037817745596666404,
                                            0.5347386873756308,
                                            0.3894467328766705,
                                            0.3538853469641021,
                                            0.37528060776572636
                                        ],
                                        [
                                            0.00489187714868713,
                                            0.10348112606902123,
                                            0.008665958530506819,
                                            0.030571007837143983,
                                            0.0036688391677205793,
                                            0.011296116736574002,
                                            0.04624673493941775,
                                            0.006784352599075007,
                                            0.07133462437378787,
                                            0.021475910335306454,
                                            0.0019437080267456581,
                                            1,
                                            0.00715674235591272,
                                            0.0006439169427037768,
                                            0.05569942601274605,
                                            0.02453948106003157,
                                            0.020002039364081927,
                                            0.0022971970637806114,
                                            0.012453593161926702,
                                            0.010690226120755746,
                                            0.020185072685016788,
                                            0.005779334958609115,
                                            0.01945871021297396,
                                            0.0038026279482880534,
                                            0.002304785229830135,
                                            0.01821356781019079,
                                            0.027656213884289974
                                        ],
                                        [
                                            0.4978545669265801,
                                            0.15983958238498852,
                                            0.013449946655490244,
                                            0.007707058872006053,
                                            0.017014444745275862,
                                            0.09496067704188883,
                                            0.01482851587378469,
                                            0.0062590877547801654,
                                            0.015794304380892982,
                                            0.015271490778732832,
                                            0.9502999134798473,
                                            0.00715674235591272,
                                            1,
                                            0.034813626134121846,
                                            0.14951521598969805,
                                            0.006089285402589954,
                                            0.02726858644031447,
                                            0.01712013823739077,
                                            0.025873436137557656,
                                            0.005407676696812238,
                                            0.7728932462543574,
                                            0.02173627682389331,
                                            0.030683081556940557,
                                            0.5142848257331957,
                                            0.3638176669287084,
                                            0.3449776381654271,
                                            0.34407888325872127
                                        ],
                                        [
                                            0.02805116713392273,
                                            0.015170212530471473,
                                            0.008440491624793354,
                                            0.03218160152258194,
                                            0.02747286354888413,
                                            0.026084197160047493,
                                            0.012648229168461627,
                                            0.037599622865715374,
                                            0.015296749550649661,
                                            0.016322079053317298,
                                            0.03956295104568388,
                                            0.0006439169427037768,
                                            0.034813626134121846,
                                            1,
                                            0.017521353415571563,
                                            0.021431144567353413,
                                            0.006429345946711407,
                                            0.00981142848936084,
                                            0.004085329337519686,
                                            0.034322830206660805,
                                            0.026442471176015385,
                                            0.0014668806322858448,
                                            0.007963157516977033,
                                            0.023655106706177275,
                                            0.012814874370471728,
                                            0.001566799514676175,
                                            0.036745905336769386
                                        ],
                                        [
                                            0.2996347579836926,
                                            0.04349373905781363,
                                            0.030742984154196643,
                                            0.0381534342794098,
                                            0.029250804197293017,
                                            0.12631656017668452,
                                            0.0012510320398018396,
                                            0.012594323218943297,
                                            0.02215688339019683,
                                            0.015012413243110999,
                                            0.1425011238104873,
                                            0.05569942601274605,
                                            0.14951521598969805,
                                            0.017521353415571563,
                                            1,
                                            0.020785821366833934,
                                            0.010238309359925521,
                                            0.014094872753535133,
                                            0.05273304856488617,
                                            0.030075475096897484,
                                            0.23763858978479552,
                                            0.06605407172783646,
                                            0.008365684790058631,
                                            0.11842134024259104,
                                            0.0907539337008081,
                                            0.03681389238350808,
                                            0.11031915543773241
                                        ],
                                        [
                                            0.02806235708412427,
                                            0.24611799424580436,
                                            0.04275151615331701,
                                            0.009134969901135003,
                                            0.025513634949946202,
                                            0.020321767395703745,
                                            0.024037286786365363,
                                            0.07013172677409499,
                                            0.007781974360999847,
                                            0.0035067105694042582,
                                            0.0005440477748809324,
                                            0.02453948106003157,
                                            0.006089285402589954,
                                            0.021431144567353413,
                                            0.020785821366833934,
                                            1,
                                            0.005432826650792697,
                                            0.004369120061651961,
                                            0.04849280287013859,
                                            0.0004486707219197341,
                                            0.01275426634193641,
                                            0.07911337155100957,
                                            0.02709187847239314,
                                            0.011687120468355147,
                                            0.029758008947989495,
                                            0.012238822598887953,
                                            0.041585998653857856
                                        ],
                                        [
                                            0.0036335849148618872,
                                            0.01347820205743911,
                                            0.02572694344700975,
                                            0.022703677496334968,
                                            0.040235377459193075,
                                            0.011110940860654192,
                                            0.012943995546151714,
                                            0.031701195241792046,
                                            0.00906198625374016,
                                            0.017204572244480378,
                                            0.03473049227941817,
                                            0.020002039364081927,
                                            0.02726858644031447,
                                            0.006429345946711407,
                                            0.010238309359925521,
                                            0.005432826650792697,
                                            1,
                                            0.7735499964012664,
                                            0.04049008105707734,
                                            0.0075277478205202026,
                                            0.020608487617691264,
                                            0.005221012351721004,
                                            0.0032796360093680704,
                                            0.03599126243195373,
                                            0.0015200265442777774,
                                            0.022154312598866126,
                                            0.01198524847236139
                                        ],
                                        [
                                            0.0019038955127587383,
                                            0.0028887517110809,
                                            0.0016833372031895275,
                                            0.00047329632718855213,
                                            0.027109618481976,
                                            0.024538791164833557,
                                            0.02035882514695762,
                                            0.02954795229768088,
                                            0.002171697427810162,
                                            0.029071333439069817,
                                            0.021222082108857152,
                                            0.0022971970637806114,
                                            0.01712013823739077,
                                            0.00981142848936084,
                                            0.014094872753535133,
                                            0.004369120061651961,
                                            0.7735499964012664,
                                            1,
                                            0.031351455442454886,
                                            0.003506471614809783,
                                            0.0067436679059531685,
                                            0.015578881739137565,
                                            0.002572361317682639,
                                            0.0034351261159238713,
                                            0.034986260407194936,
                                            0.017896066144799785,
                                            0.022827168908479807
                                        ],
                                        [
                                            0.053534719671229365,
                                            0.0458722788811267,
                                            0.008926303364628272,
                                            0.007846030957248387,
                                            0.006557474646578779,
                                            0.009118376696381533,
                                            0.06986141146763755,
                                            0.007665383541074558,
                                            0.0013304527859508606,
                                            0.034296820611197744,
                                            0.021641510532591595,
                                            0.012453593161926702,
                                            0.025873436137557656,
                                            0.004085329337519686,
                                            0.05273304856488617,
                                            0.04849280287013859,
                                            0.04049008105707734,
                                            0.031351455442454886,
                                            1,
                                            0.045952490716561906,
                                            0.02405429182134145,
                                            0.002496526392116996,
                                            0.01960440570396871,
                                            0.019366786877455463,
                                            0.015122914881937748,
                                            0.033492502069354176,
                                            0.0008674968446256695
                                        ],
                                        [
                                            0.037509712424777526,
                                            0.13714491893332562,
                                            0.02825695328706266,
                                            0.04214279637720667,
                                            0.04487199885318152,
                                            0.018422220204016834,
                                            0.06222669251362305,
                                            0.0034321577550574162,
                                            0.050263399065119486,
                                            0.021522640378023858,
                                            0.013983910528615457,
                                            0.010690226120755746,
                                            0.005407676696812238,
                                            0.034322830206660805,
                                            0.030075475096897484,
                                            0.0004486707219197341,
                                            0.0075277478205202026,
                                            0.003506471614809783,
                                            0.045952490716561906,
                                            1,
                                            0.010135969318901629,
                                            0.011274069611249207,
                                            0.004128730002871338,
                                            0.015058008028094509,
                                            0.050817872753931646,
                                            0.01435218486435548,
                                            0.02469822656303012
                                        ],
                                        [
                                            0.6803805357911985,
                                            0.17106324613622612,
                                            0.00797211001409594,
                                            0.014514738706320902,
                                            0.004628425863783857,
                                            0.1482796965388733,
                                            0.014365198461301121,
                                            0.002693070388534207,
                                            0.002333681823322269,
                                            0.0055331820574074635,
                                            0.7822078045362748,
                                            0.020185072685016788,
                                            0.7728932462543574,
                                            0.026442471176015385,
                                            0.23763858978479552,
                                            0.01275426634193641,
                                            0.020608487617691264,
                                            0.0067436679059531685,
                                            0.02405429182134145,
                                            0.010135969318901629,
                                            1,
                                            0.03566157127961907,
                                            0.0010076456218964924,
                                            0.6281331552682468,
                                            0.46036463801180993,
                                            0.4048577585025587,
                                            0.45918839708314385
                                        ],
                                        [
                                            0.01962081894269849,
                                            0.05947779855642057,
                                            0.01635721949377971,
                                            0.002452542712083144,
                                            0.036942234339915794,
                                            0.025100241137933348,
                                            0.023603169591926734,
                                            0.01935930834713247,
                                            0.008547685209270649,
                                            0.015337825759429116,
                                            0.018190550193549416,
                                            0.005779334958609115,
                                            0.02173627682389331,
                                            0.0014668806322858448,
                                            0.06605407172783646,
                                            0.07911337155100957,
                                            0.005221012351721004,
                                            0.015578881739137565,
                                            0.002496526392116996,
                                            0.011274069611249207,
                                            0.03566157127961907,
                                            1,
                                            0.02807220660362872,
                                            0.003568665678427449,
                                            0.0057375043379568925,
                                            0.0020665360380059438,
                                            0.004095526021226202
                                        ],
                                        [
                                            0.021490027957098715,
                                            0.06393904721740885,
                                            0.004208799278266388,
                                            0.03784805100578179,
                                            0.02655600410656903,
                                            0.00981918930978191,
                                            0.010308641437965905,
                                            0.027627295460115428,
                                            0.004607233750264554,
                                            0.014616593162761865,
                                            0.037817745596666404,
                                            0.01945871021297396,
                                            0.030683081556940557,
                                            0.007963157516977033,
                                            0.008365684790058631,
                                            0.02709187847239314,
                                            0.0032796360093680704,
                                            0.002572361317682639,
                                            0.01960440570396871,
                                            0.004128730002871338,
                                            0.0010076456218964924,
                                            0.02807220660362872,
                                            1,
                                            0.012089185354581315,
                                            0.04985649792220436,
                                            0.008941249141234323,
                                            0.002759440242340428
                                        ],
                                        [
                                            0.3113087697450989,
                                            0.13439221398997708,
                                            0.005212127727863635,
                                            0.03405476756854742,
                                            0.009507719899011289,
                                            0.06911369603133866,
                                            0.011240463708114047,
                                            0.0014575491911164862,
                                            0.019581616209121275,
                                            0.021355426979629725,
                                            0.5347386873756308,
                                            0.0038026279482880534,
                                            0.5142848257331957,
                                            0.023655106706177275,
                                            0.11842134024259104,
                                            0.011687120468355147,
                                            0.03599126243195373,
                                            0.0034351261159238713,
                                            0.019366786877455463,
                                            0.015058008028094509,
                                            0.6281331552682468,
                                            0.003568665678427449,
                                            0.012089185354581315,
                                            1,
                                            0.7587537366134619,
                                            0.6184088652176047,
                                            0.7692124251007031
                                        ],
                                        [
                                            0.21290105556556793,
                                            0.16054500426770077,
                                            0.005336423553402227,
                                            0.009932014960094215,
                                            0.018844999108945746,
                                            0.06023555412069576,
                                            0.008416311998425954,
                                            0.01800746014287853,
                                            0.02410622020878498,
                                            0.00871696349761169,
                                            0.3894467328766705,
                                            0.002304785229830135,
                                            0.3638176669287084,
                                            0.012814874370471728,
                                            0.0907539337008081,
                                            0.029758008947989495,
                                            0.0015200265442777774,
                                            0.034986260407194936,
                                            0.015122914881937748,
                                            0.050817872753931646,
                                            0.46036463801180993,
                                            0.0057375043379568925,
                                            0.04985649792220436,
                                            0.7587537366134619,
                                            1,
                                            0.5480562476995187,
                                            0.7143647616385931
                                        ],
                                        [
                                            0.2165133678516537,
                                            0.033018775142584306,
                                            0.0052220204697793204,
                                            0.033228984787772024,
                                            0.010028835943115395,
                                            0.054254333591320224,
                                            0.009019064206633414,
                                            0.016193605568453326,
                                            0.02671558606433524,
                                            0.024184292365179074,
                                            0.3538853469641021,
                                            0.01821356781019079,
                                            0.3449776381654271,
                                            0.001566799514676175,
                                            0.03681389238350808,
                                            0.012238822598887953,
                                            0.022154312598866126,
                                            0.017896066144799785,
                                            0.033492502069354176,
                                            0.01435218486435548,
                                            0.4048577585025587,
                                            0.0020665360380059438,
                                            0.008941249141234323,
                                            0.6184088652176047,
                                            0.5480562476995187,
                                            1,
                                            0.5102236357788085
                                        ],
                                        [
                                            0.20208860237515264,
                                            0.1561993159016288,
                                            0.0002285118470293628,
                                            0.026363178228837676,
                                            0.014406048430630005,
                                            0.06906537825528458,
                                            0.009196645292770315,
                                            0.004998722628107581,
                                            0.020123200184066006,
                                            0.025975807949088936,
                                            0.37528060776572636,
                                            0.027656213884289974,
                                            0.34407888325872127,
                                            0.036745905336769386,
                                            0.11031915543773241,
                                            0.041585998653857856,
                                            0.01198524847236139,
                                            0.022827168908479807,
                                            0.0008674968446256695,
                                            0.02469822656303012,
                                            0.45918839708314385,
                                            0.004095526021226202,
                                            0.002759440242340428,
                                            0.7692124251007031,
                                            0.7143647616385931,
                                            0.5102236357788085,
                                            1
                                        ]
                                    ]
                                }
                            ],
                            "layout": {
                                "autosize": false,
                                "height": 750,
                                "template": {
                                    "data": {
                                        "bar": [
                                            {
                                                "error_x": {
                                                    "color": "#2a3f5f"
                                                },
                                                "error_y": {
                                                    "color": "#2a3f5f"
                                                },
                                                "marker": {
                                                    "line": {
                                                        "color": "#E5ECF6",
                                                        "width": 0.5
                                                    }
                                                },
                                                "type": "bar"
                                            }
                                        ],
                                        "barpolar": [
                                            {
                                                "marker": {
                                                    "line": {
                                                        "color": "#E5ECF6",
                                                        "width": 0.5
                                                    }
                                                },
                                                "type": "barpolar"
                                            }
                                        ],
                                        "carpet": [
                                            {
                                                "aaxis": {
                                                    "endlinecolor": "#2a3f5f",
                                                    "gridcolor": "white",
                                                    "linecolor": "white",
                                                    "minorgridcolor": "white",
                                                    "startlinecolor": "#2a3f5f"
                                                },
                                                "baxis": {
                                                    "endlinecolor": "#2a3f5f",
                                                    "gridcolor": "white",
                                                    "linecolor": "white",
                                                    "minorgridcolor": "white",
                                                    "startlinecolor": "#2a3f5f"
                                                },
                                                "type": "carpet"
                                            }
                                        ],
                                        "choropleth": [
                                            {
                                                "colorbar": {
                                                    "outlinewidth": 0,
                                                    "ticks": ""
                                                },
                                                "type": "choropleth"
                                            }
                                        ],
                                        "contour": [
                                            {
                                                "colorbar": {
                                                    "outlinewidth": 0,
                                                    "ticks": ""
                                                },
                                                "colorscale": [
                                                    [
                                                        0,
                                                        "#0d0887"
                                                    ],
                                                    [
                                                        0.1111111111111111,
                                                        "#46039f"
                                                    ],
                                                    [
                                                        0.2222222222222222,
                                                        "#7201a8"
                                                    ],
                                                    [
                                                        0.3333333333333333,
                                                        "#9c179e"
                                                    ],
                                                    [
                                                        0.4444444444444444,
                                                        "#bd3786"
                                                    ],
                                                    [
                                                        0.5555555555555556,
                                                        "#d8576b"
                                                    ],
                                                    [
                                                        0.6666666666666666,
                                                        "#ed7953"
                                                    ],
                                                    [
                                                        0.7777777777777778,
                                                        "#fb9f3a"
                                                    ],
                                                    [
                                                        0.8888888888888888,
                                                        "#fdca26"
                                                    ],
                                                    [
                                                        1,
                                                        "#f0f921"
                                                    ]
                                                ],
                                                "type": "contour"
                                            }
                                        ],
                                        "contourcarpet": [
                                            {
                                                "colorbar": {
                                                    "outlinewidth": 0,
                                                    "ticks": ""
                                                },
                                                "type": "contourcarpet"
                                            }
                                        ],
                                        "heatmap": [
                                            {
                                                "colorbar": {
                                                    "outlinewidth": 0,
                                                    "ticks": ""
                                                },
                                                "colorscale": [
                                                    [
                                                        0,
                                                        "#0d0887"
                                                    ],
                                                    [
                                                        0.1111111111111111,
                                                        "#46039f"
                                                    ],
                                                    [
                                                        0.2222222222222222,
                                                        "#7201a8"
                                                    ],
                                                    [
                                                        0.3333333333333333,
                                                        "#9c179e"
                                                    ],
                                                    [
                                                        0.4444444444444444,
                                                        "#bd3786"
                                                    ],
                                                    [
                                                        0.5555555555555556,
                                                        "#d8576b"
                                                    ],
                                                    [
                                                        0.6666666666666666,
                                                        "#ed7953"
                                                    ],
                                                    [
                                                        0.7777777777777778,
                                                        "#fb9f3a"
                                                    ],
                                                    [
                                                        0.8888888888888888,
                                                        "#fdca26"
                                                    ],
                                                    [
                                                        1,
                                                        "#f0f921"
                                                    ]
                                                ],
                                                "type": "heatmap"
                                            }
                                        ],
                                        "heatmapgl": [
                                            {
                                                "colorbar": {
                                                    "outlinewidth": 0,
                                                    "ticks": ""
                                                },
                                                "colorscale": [
                                                    [
                                                        0,
                                                        "#0d0887"
                                                    ],
                                                    [
                                                        0.1111111111111111,
                                                        "#46039f"
                                                    ],
                                                    [
                                                        0.2222222222222222,
                                                        "#7201a8"
                                                    ],
                                                    [
                                                        0.3333333333333333,
                                                        "#9c179e"
                                                    ],
                                                    [
                                                        0.4444444444444444,
                                                        "#bd3786"
                                                    ],
                                                    [
                                                        0.5555555555555556,
                                                        "#d8576b"
                                                    ],
                                                    [
                                                        0.6666666666666666,
                                                        "#ed7953"
                                                    ],
                                                    [
                                                        0.7777777777777778,
                                                        "#fb9f3a"
                                                    ],
                                                    [
                                                        0.8888888888888888,
                                                        "#fdca26"
                                                    ],
                                                    [
                                                        1,
                                                        "#f0f921"
                                                    ]
                                                ],
                                                "type": "heatmapgl"
                                            }
                                        ],
                                        "histogram": [
                                            {
                                                "marker": {
                                                    "colorbar": {
                                                        "outlinewidth": 0,
                                                        "ticks": ""
                                                    }
                                                },
                                                "type": "histogram"
                                            }
                                        ],
                                        "histogram2d": [
                                            {
                                                "colorbar": {
                                                    "outlinewidth": 0,
                                                    "ticks": ""
                                                },
                                                "colorscale": [
                                                    [
                                                        0,
                                                        "#0d0887"
                                                    ],
                                                    [
                                                        0.1111111111111111,
                                                        "#46039f"
                                                    ],
                                                    [
                                                        0.2222222222222222,
                                                        "#7201a8"
                                                    ],
                                                    [
                                                        0.3333333333333333,
                                                        "#9c179e"
                                                    ],
                                                    [
                                                        0.4444444444444444,
                                                        "#bd3786"
                                                    ],
                                                    [
                                                        0.5555555555555556,
                                                        "#d8576b"
                                                    ],
                                                    [
                                                        0.6666666666666666,
                                                        "#ed7953"
                                                    ],
                                                    [
                                                        0.7777777777777778,
                                                        "#fb9f3a"
                                                    ],
                                                    [
                                                        0.8888888888888888,
                                                        "#fdca26"
                                                    ],
                                                    [
                                                        1,
                                                        "#f0f921"
                                                    ]
                                                ],
                                                "type": "histogram2d"
                                            }
                                        ],
                                        "histogram2dcontour": [
                                            {
                                                "colorbar": {
                                                    "outlinewidth": 0,
                                                    "ticks": ""
                                                },
                                                "colorscale": [
                                                    [
                                                        0,
                                                        "#0d0887"
                                                    ],
                                                    [
                                                        0.1111111111111111,
                                                        "#46039f"
                                                    ],
                                                    [
                                                        0.2222222222222222,
                                                        "#7201a8"
                                                    ],
                                                    [
                                                        0.3333333333333333,
                                                        "#9c179e"
                                                    ],
                                                    [
                                                        0.4444444444444444,
                                                        "#bd3786"
                                                    ],
                                                    [
                                                        0.5555555555555556,
                                                        "#d8576b"
                                                    ],
                                                    [
                                                        0.6666666666666666,
                                                        "#ed7953"
                                                    ],
                                                    [
                                                        0.7777777777777778,
                                                        "#fb9f3a"
                                                    ],
                                                    [
                                                        0.8888888888888888,
                                                        "#fdca26"
                                                    ],
                                                    [
                                                        1,
                                                        "#f0f921"
                                                    ]
                                                ],
                                                "type": "histogram2dcontour"
                                            }
                                        ],
                                        "mesh3d": [
                                            {
                                                "colorbar": {
                                                    "outlinewidth": 0,
                                                    "ticks": ""
                                                },
                                                "type": "mesh3d"
                                            }
                                        ],
                                        "parcoords": [
                                            {
                                                "line": {
                                                    "colorbar": {
                                                        "outlinewidth": 0,
                                                        "ticks": ""
                                                    }
                                                },
                                                "type": "parcoords"
                                            }
                                        ],
                                        "pie": [
                                            {
                                                "automargin": true,
                                                "type": "pie"
                                            }
                                        ],
                                        "scatter": [
                                            {
                                                "marker": {
                                                    "colorbar": {
                                                        "outlinewidth": 0,
                                                        "ticks": ""
                                                    }
                                                },
                                                "type": "scatter"
                                            }
                                        ],
                                        "scatter3d": [
                                            {
                                                "line": {
                                                    "colorbar": {
                                                        "outlinewidth": 0,
                                                        "ticks": ""
                                                    }
                                                },
                                                "marker": {
                                                    "colorbar": {
                                                        "outlinewidth": 0,
                                                        "ticks": ""
                                                    }
                                                },
                                                "type": "scatter3d"
                                            }
                                        ],
                                        "scattercarpet": [
                                            {
                                                "marker": {
                                                    "colorbar": {
                                                        "outlinewidth": 0,
                                                        "ticks": ""
                                                    }
                                                },
                                                "type": "scattercarpet"
                                            }
                                        ],
                                        "scattergeo": [
                                            {
                                                "marker": {
                                                    "colorbar": {
                                                        "outlinewidth": 0,
                                                        "ticks": ""
                                                    }
                                                },
                                                "type": "scattergeo"
                                            }
                                        ],
                                        "scattergl": [
                                            {
                                                "marker": {
                                                    "colorbar": {
                                                        "outlinewidth": 0,
                                                        "ticks": ""
                                                    }
                                                },
                                                "type": "scattergl"
                                            }
                                        ],
                                        "scattermapbox": [
                                            {
                                                "marker": {
                                                    "colorbar": {
                                                        "outlinewidth": 0,
                                                        "ticks": ""
                                                    }
                                                },
                                                "type": "scattermapbox"
                                            }
                                        ],
                                        "scatterpolar": [
                                            {
                                                "marker": {
                                                    "colorbar": {
                                                        "outlinewidth": 0,
                                                        "ticks": ""
                                                    }
                                                },
                                                "type": "scatterpolar"
                                            }
                                        ],
                                        "scatterpolargl": [
                                            {
                                                "marker": {
                                                    "colorbar": {
                                                        "outlinewidth": 0,
                                                        "ticks": ""
                                                    }
                                                },
                                                "type": "scatterpolargl"
                                            }
                                        ],
                                        "scatterternary": [
                                            {
                                                "marker": {
                                                    "colorbar": {
                                                        "outlinewidth": 0,
                                                        "ticks": ""
                                                    }
                                                },
                                                "type": "scatterternary"
                                            }
                                        ],
                                        "surface": [
                                            {
                                                "colorbar": {
                                                    "outlinewidth": 0,
                                                    "ticks": ""
                                                },
                                                "colorscale": [
                                                    [
                                                        0,
                                                        "#0d0887"
                                                    ],
                                                    [
                                                        0.1111111111111111,
                                                        "#46039f"
                                                    ],
                                                    [
                                                        0.2222222222222222,
                                                        "#7201a8"
                                                    ],
                                                    [
                                                        0.3333333333333333,
                                                        "#9c179e"
                                                    ],
                                                    [
                                                        0.4444444444444444,
                                                        "#bd3786"
                                                    ],
                                                    [
                                                        0.5555555555555556,
                                                        "#d8576b"
                                                    ],
                                                    [
                                                        0.6666666666666666,
                                                        "#ed7953"
                                                    ],
                                                    [
                                                        0.7777777777777778,
                                                        "#fb9f3a"
                                                    ],
                                                    [
                                                        0.8888888888888888,
                                                        "#fdca26"
                                                    ],
                                                    [
                                                        1,
                                                        "#f0f921"
                                                    ]
                                                ],
                                                "type": "surface"
                                            }
                                        ],
                                        "table": [
                                            {
                                                "cells": {
                                                    "fill": {
                                                        "color": "#EBF0F8"
                                                    },
                                                    "line": {
                                                        "color": "white"
                                                    }
                                                },
                                                "header": {
                                                    "fill": {
                                                        "color": "#C8D4E3"
                                                    },
                                                    "line": {
                                                        "color": "white"
                                                    }
                                                },
                                                "type": "table"
                                            }
                                        ]
                                    },
                                    "layout": {
                                        "annotationdefaults": {
                                            "arrowcolor": "#2a3f5f",
                                            "arrowhead": 0,
                                            "arrowwidth": 1
                                        },
                                        "autotypenumbers": "strict",
                                        "coloraxis": {
                                            "colorbar": {
                                                "outlinewidth": 0,
                                                "ticks": ""
                                            }
                                        },
                                        "colorscale": {
                                            "diverging": [
                                                [
                                                    0,
                                                    "#8e0152"
                                                ],
                                                [
                                                    0.1,
                                                    "#c51b7d"
                                                ],
                                                [
                                                    0.2,
                                                    "#de77ae"
                                                ],
                                                [
                                                    0.3,
                                                    "#f1b6da"
                                                ],
                                                [
                                                    0.4,
                                                    "#fde0ef"
                                                ],
                                                [
                                                    0.5,
                                                    "#f7f7f7"
                                                ],
                                                [
                                                    0.6,
                                                    "#e6f5d0"
                                                ],
                                                [
                                                    0.7,
                                                    "#b8e186"
                                                ],
                                                [
                                                    0.8,
                                                    "#7fbc41"
                                                ],
                                                [
                                                    0.9,
                                                    "#4d9221"
                                                ],
                                                [
                                                    1,
                                                    "#276419"
                                                ]
                                            ],
                                            "sequential": [
                                                [
                                                    0,
                                                    "#0d0887"
                                                ],
                                                [
                                                    0.1111111111111111,
                                                    "#46039f"
                                                ],
                                                [
                                                    0.2222222222222222,
                                                    "#7201a8"
                                                ],
                                                [
                                                    0.3333333333333333,
                                                    "#9c179e"
                                                ],
                                                [
                                                    0.4444444444444444,
                                                    "#bd3786"
                                                ],
                                                [
                                                    0.5555555555555556,
                                                    "#d8576b"
                                                ],
                                                [
                                                    0.6666666666666666,
                                                    "#ed7953"
                                                ],
                                                [
                                                    0.7777777777777778,
                                                    "#fb9f3a"
                                                ],
                                                [
                                                    0.8888888888888888,
                                                    "#fdca26"
                                                ],
                                                [
                                                    1,
                                                    "#f0f921"
                                                ]
                                            ],
                                            "sequentialminus": [
                                                [
                                                    0,
                                                    "#0d0887"
                                                ],
                                                [
                                                    0.1111111111111111,
                                                    "#46039f"
                                                ],
                                                [
                                                    0.2222222222222222,
                                                    "#7201a8"
                                                ],
                                                [
                                                    0.3333333333333333,
                                                    "#9c179e"
                                                ],
                                                [
                                                    0.4444444444444444,
                                                    "#bd3786"
                                                ],
                                                [
                                                    0.5555555555555556,
                                                    "#d8576b"
                                                ],
                                                [
                                                    0.6666666666666666,
                                                    "#ed7953"
                                                ],
                                                [
                                                    0.7777777777777778,
                                                    "#fb9f3a"
                                                ],
                                                [
                                                    0.8888888888888888,
                                                    "#fdca26"
                                                ],
                                                [
                                                    1,
                                                    "#f0f921"
                                                ]
                                            ]
                                        },
                                        "colorway": [
                                            "#636efa",
                                            "#EF553B",
                                            "#00cc96",
                                            "#ab63fa",
                                            "#FFA15A",
                                            "#19d3f3",
                                            "#FF6692",
                                            "#B6E880",
                                            "#FF97FF",
                                            "#FECB52"
                                        ],
                                        "font": {
                                            "color": "#2a3f5f"
                                        },
                                        "geo": {
                                            "bgcolor": "white",
                                            "lakecolor": "white",
                                            "landcolor": "#E5ECF6",
                                            "showlakes": true,
                                            "showland": true,
                                            "subunitcolor": "white"
                                        },
                                        "hoverlabel": {
                                            "align": "left"
                                        },
                                        "hovermode": "closest",
                                        "mapbox": {
                                            "style": "light"
                                        },
                                        "paper_bgcolor": "white",
                                        "plot_bgcolor": "#E5ECF6",
                                        "polar": {
                                            "angularaxis": {
                                                "gridcolor": "white",
                                                "linecolor": "white",
                                                "ticks": ""
                                            },
                                            "bgcolor": "#E5ECF6",
                                            "radialaxis": {
                                                "gridcolor": "white",
                                                "linecolor": "white",
                                                "ticks": ""
                                            }
                                        },
                                        "scene": {
                                            "xaxis": {
                                                "backgroundcolor": "#E5ECF6",
                                                "gridcolor": "white",
                                                "gridwidth": 2,
                                                "linecolor": "white",
                                                "showbackground": true,
                                                "ticks": "",
                                                "zerolinecolor": "white"
                                            },
                                            "yaxis": {
                                                "backgroundcolor": "#E5ECF6",
                                                "gridcolor": "white",
                                                "gridwidth": 2,
                                                "linecolor": "white",
                                                "showbackground": true,
                                                "ticks": "",
                                                "zerolinecolor": "white"
                                            },
                                            "zaxis": {
                                                "backgroundcolor": "#E5ECF6",
                                                "gridcolor": "white",
                                                "gridwidth": 2,
                                                "linecolor": "white",
                                                "showbackground": true,
                                                "ticks": "",
                                                "zerolinecolor": "white"
                                            }
                                        },
                                        "shapedefaults": {
                                            "line": {
                                                "color": "#2a3f5f"
                                            }
                                        },
                                        "ternary": {
                                            "aaxis": {
                                                "gridcolor": "white",
                                                "linecolor": "white",
                                                "ticks": ""
                                            },
                                            "baxis": {
                                                "gridcolor": "white",
                                                "linecolor": "white",
                                                "ticks": ""
                                            },
                                            "bgcolor": "#E5ECF6",
                                            "caxis": {
                                                "gridcolor": "white",
                                                "linecolor": "white",
                                                "ticks": ""
                                            }
                                        },
                                        "title": {
                                            "x": 0.05
                                        },
                                        "xaxis": {
                                            "automargin": true,
                                            "gridcolor": "white",
                                            "linecolor": "white",
                                            "ticks": "",
                                            "title": {
                                                "standoff": 15
                                            },
                                            "zerolinecolor": "white",
                                            "zerolinewidth": 2
                                        },
                                        "yaxis": {
                                            "automargin": true,
                                            "gridcolor": "white",
                                            "linecolor": "white",
                                            "ticks": "",
                                            "title": {
                                                "standoff": 15
                                            },
                                            "zerolinecolor": "white",
                                            "zerolinewidth": 2
                                        }
                                    }
                                },
                                "title": {
                                    "text": "Interactive correlation heatmap of numerical features"
                                },
                                "width": 750
                            }
                        }
                    },
                    "metadata": {}
                }
            ],
            "metadata": {}
        },
        {
            "cell_type": "code",
            "execution_count": null,
            "source": [],
            "outputs": [],
            "metadata": {}
        }
    ],
    "metadata": {
        "orig_nbformat": 4,
        "language_info": {
            "name": "python",
            "version": "3.7.10",
            "mimetype": "text/x-python",
            "codemirror_mode": {
                "name": "ipython",
                "version": 3
            },
            "pygments_lexer": "ipython3",
            "nbconvert_exporter": "python",
            "file_extension": ".py"
        },
        "kernelspec": {
            "name": "python3",
            "display_name": "Python 3.7.10 64-bit ('DSC540': conda)"
        },
        "interpreter": {
            "hash": "9563a1eb5ea6998bda3b999fe9e3157bb5d5b789b415171fc389ba85846d4b73"
        }
    },
    "nbformat": 4,
    "nbformat_minor": 2
}